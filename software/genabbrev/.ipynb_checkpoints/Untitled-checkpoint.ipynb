{
 "cells": [
  {
   "cell_type": "code",
   "execution_count": 1,
   "id": "d4bde527-8814-4fd0-ad6d-b1a42d48efb4",
   "metadata": {},
   "outputs": [],
   "source": [
    "import re\n",
    "def normalize_latex_math(text):\n",
    "    \"\"\"\n",
    "    Preprocesses LaTeX text:\n",
    "    1. Converts LaTeX inline math \\( ... \\) to $ ... $.\n",
    "    2. Removes LaTeX comments (% to end of line), respecting \\%.\n",
    "    3. Removes preamble/end tags if \\begin{document} is found.\n",
    "    4. Adds space after opening curly braces ({).\n",
    "    5. Adds space after lowercase LaTeX commands (\\cmd) if not already present.\n",
    "    6. Adds space after specific uppercase Greek commands (\\Cmd) if not present.\n",
    "    7. Cleans up extra blank lines and trims whitespace.\n",
    "    \"\"\"\n",
    "    if not isinstance(text, str):\n",
    "        print(\"Warning: Input to normalize_latex_math was not a string.\")\n",
    "        return text\n",
    "\n",
    "    processed_text = text\n",
    "    try:\n",
    "        # 1. Normalize math \\(...\\) to $...$\n",
    "        processed_text = re.sub(\n",
    "            r'\\\\\\(\\s*(.*?)\\s*\\\\\\)',\n",
    "            lambda match: f\"${match.group(1).strip()}$\",\n",
    "            processed_text\n",
    "        )\n",
    "\n",
    "        # 2. Remove LaTeX comment lines (respects \\%)\n",
    "        processed_text = re.sub(r'(?<!\\\\)%.*$', '', processed_text, flags=re.MULTILINE)\n",
    "\n",
    "        # 3. Remove preamble IF \\begin{document} exists\n",
    "        begin_doc_marker = r'\\begin{document}'\n",
    "        begin_doc_index = processed_text.find(begin_doc_marker)\n",
    "        if begin_doc_index != -1:\n",
    "            processed_text = processed_text[begin_doc_index + len(begin_doc_marker):]\n",
    "        # 3b. Remove \\end{document} if present near the end\n",
    "        end_doc_marker = r'\\end{document}'\n",
    "        end_doc_index = processed_text.rfind(end_doc_marker)\n",
    "        if end_doc_index != -1 and len(processed_text) - end_doc_index < 30:\n",
    "            processed_text = processed_text[:end_doc_index]\n",
    "\n",
    "        # --- Spacing Adjustments ---\n",
    "        # 4. Add space after {\n",
    "        processed_text = re.sub(r'\\{', r'{ ', processed_text)\n",
    "\n",
    "        # 5. Add space after lowercase commands (\\cmd) if not followed by space\n",
    "        processed_text = re.sub(r'(\\\\[a-z]+)(?!\\s)', r'\\1 ', processed_text)\n",
    "\n",
    "        # --- NEW STEP 6 ---\n",
    "        # 6. Add space after specific uppercase Greek commands (\\Cmd) if not followed by space\n",
    "        upper_greek_cmds = [\n",
    "            'Gamma', 'Delta', 'Theta', 'Lambda', 'Xi', 'Pi',\n",
    "            'Sigma', 'Upsilon', 'Phi', 'Psi', 'Omega'\n",
    "            ]\n",
    "        # Create pattern part like: Gamma|Delta|Theta...\n",
    "        pattern_part = '|'.join(upper_greek_cmds)\n",
    "        # Regex captures (\\ + one of the commands), checks no following whitespace\n",
    "        pattern_upper = rf'(\\\\ (?:{pattern_part}))(?!\\s)'\n",
    "        # Replacement adds back captured command (group 1) + space\n",
    "        processed_text = re.sub(pattern_upper, r'\\1 ', processed_text)\n",
    "        # --- End NEW STEP 6 ---\n",
    "\n",
    "        # 7. Clean up potential excessive blank lines\n",
    "        processed_text = re.sub(r'(\\n\\s*){2,}', '\\n', processed_text)\n",
    "        # Remove leading/trailing whitespace from the whole result\n",
    "        processed_text = processed_text.strip()\n",
    "\n",
    "        # Optional: Collapse multiple spaces (might affect deliberate spacing)\n",
    "        # processed_text = re.sub(r'[ \\t]+', ' ', processed_text)\n",
    "\n",
    "        return processed_text\n",
    "\n",
    "    except Exception as e:\n",
    "        error_message = f\"Error during LaTeX text preprocessing: {e}\"\n",
    "        try:\n",
    "            import streamlit as st\n",
    "            st.error(error_message)\n",
    "        except ImportError:\n",
    "            print(error_message)\n",
    "        return text # Return original text on error    \n"
   ]
  },
  {
   "cell_type": "code",
   "execution_count": 3,
   "id": "e6e18ad7-dc27-4fcc-a142-bf5ace6a516e",
   "metadata": {},
   "outputs": [
    {
     "data": {
      "text/plain": [
       "'$\\\\alph a Z$'"
      ]
     },
     "execution_count": 3,
     "metadata": {},
     "output_type": "execute_result"
    }
   ],
   "source": [
    "normalize_latex_math(r\"$\\alpha Z$\")\n"
   ]
  },
  {
   "cell_type": "code",
   "execution_count": 4,
   "id": "0a3c57e3-2e1b-4a4b-b6a2-9f7c579dee2a",
   "metadata": {},
   "outputs": [],
   "source": [
    "import pdb"
   ]
  },
  {
   "cell_type": "code",
   "execution_count": 5,
   "id": "096de969-3ba8-4c7f-91ec-85e3f1b810de",
   "metadata": {},
   "outputs": [
    {
     "name": "stdout",
     "output_type": "stream",
     "text": [
      "> \u001b[0;32m/var/folders/4b/lxf1fvsj6hs_rs1t1kcpm2m0jfgnr5/T/ipykernel_81762/1729876278.py\u001b[0m(13)\u001b[0;36mnormalize_latex_math\u001b[0;34m()\u001b[0m\n",
      "\u001b[0;32m     11 \u001b[0;31m    \u001b[0;36m7.\u001b[0m \u001b[0mCleans\u001b[0m \u001b[0mup\u001b[0m \u001b[0mextra\u001b[0m \u001b[0mblank\u001b[0m \u001b[0mlines\u001b[0m \u001b[0;32mand\u001b[0m \u001b[0mtrims\u001b[0m \u001b[0mwhitespace\u001b[0m\u001b[0;34m.\u001b[0m\u001b[0;34m\u001b[0m\u001b[0;34m\u001b[0m\u001b[0m\n",
      "\u001b[0m\u001b[0;32m     12 \u001b[0;31m    \"\"\"\n",
      "\u001b[0m\u001b[0;32m---> 13 \u001b[0;31m    \u001b[0;32mif\u001b[0m \u001b[0;32mnot\u001b[0m \u001b[0misinstance\u001b[0m\u001b[0;34m(\u001b[0m\u001b[0mtext\u001b[0m\u001b[0;34m,\u001b[0m \u001b[0mstr\u001b[0m\u001b[0;34m)\u001b[0m\u001b[0;34m:\u001b[0m\u001b[0;34m\u001b[0m\u001b[0;34m\u001b[0m\u001b[0m\n",
      "\u001b[0m\u001b[0;32m     14 \u001b[0;31m        \u001b[0mprint\u001b[0m\u001b[0;34m(\u001b[0m\u001b[0;34m\"Warning: Input to normalize_latex_math was not a string.\"\u001b[0m\u001b[0;34m)\u001b[0m\u001b[0;34m\u001b[0m\u001b[0;34m\u001b[0m\u001b[0m\n",
      "\u001b[0m\u001b[0;32m     15 \u001b[0;31m        \u001b[0;32mreturn\u001b[0m \u001b[0mtext\u001b[0m\u001b[0;34m\u001b[0m\u001b[0;34m\u001b[0m\u001b[0m\n",
      "\u001b[0m\n"
     ]
    },
    {
     "name": "stdin",
     "output_type": "stream",
     "text": [
      "ipdb>  text\n"
     ]
    },
    {
     "name": "stdout",
     "output_type": "stream",
     "text": [
      "'$\\\\alpha Z$'\n"
     ]
    },
    {
     "name": "stdin",
     "output_type": "stream",
     "text": [
      "ipdb>  \n"
     ]
    },
    {
     "name": "stdout",
     "output_type": "stream",
     "text": [
      "'$\\\\alpha Z$'\n"
     ]
    },
    {
     "name": "stdin",
     "output_type": "stream",
     "text": [
      "ipdb>  \n"
     ]
    },
    {
     "name": "stdout",
     "output_type": "stream",
     "text": [
      "'$\\\\alpha Z$'\n"
     ]
    },
    {
     "name": "stdin",
     "output_type": "stream",
     "text": [
      "ipdb>  n\n"
     ]
    },
    {
     "name": "stdout",
     "output_type": "stream",
     "text": [
      "> \u001b[0;32m/var/folders/4b/lxf1fvsj6hs_rs1t1kcpm2m0jfgnr5/T/ipykernel_81762/1729876278.py\u001b[0m(17)\u001b[0;36mnormalize_latex_math\u001b[0;34m()\u001b[0m\n",
      "\u001b[0;32m     15 \u001b[0;31m        \u001b[0;32mreturn\u001b[0m \u001b[0mtext\u001b[0m\u001b[0;34m\u001b[0m\u001b[0;34m\u001b[0m\u001b[0m\n",
      "\u001b[0m\u001b[0;32m     16 \u001b[0;31m\u001b[0;34m\u001b[0m\u001b[0m\n",
      "\u001b[0m\u001b[0;32m---> 17 \u001b[0;31m    \u001b[0mprocessed_text\u001b[0m \u001b[0;34m=\u001b[0m \u001b[0mtext\u001b[0m\u001b[0;34m\u001b[0m\u001b[0;34m\u001b[0m\u001b[0m\n",
      "\u001b[0m\u001b[0;32m     18 \u001b[0;31m    \u001b[0;32mtry\u001b[0m\u001b[0;34m:\u001b[0m\u001b[0;34m\u001b[0m\u001b[0;34m\u001b[0m\u001b[0m\n",
      "\u001b[0m\u001b[0;32m     19 \u001b[0;31m        \u001b[0;31m# 1. Normalize math \\(...\\) to $...$\u001b[0m\u001b[0;34m\u001b[0m\u001b[0;34m\u001b[0m\u001b[0m\n",
      "\u001b[0m\n"
     ]
    },
    {
     "name": "stdin",
     "output_type": "stream",
     "text": [
      "ipdb>  n\n"
     ]
    },
    {
     "name": "stdout",
     "output_type": "stream",
     "text": [
      "> \u001b[0;32m/var/folders/4b/lxf1fvsj6hs_rs1t1kcpm2m0jfgnr5/T/ipykernel_81762/1729876278.py\u001b[0m(18)\u001b[0;36mnormalize_latex_math\u001b[0;34m()\u001b[0m\n",
      "\u001b[0;32m     16 \u001b[0;31m\u001b[0;34m\u001b[0m\u001b[0m\n",
      "\u001b[0m\u001b[0;32m     17 \u001b[0;31m    \u001b[0mprocessed_text\u001b[0m \u001b[0;34m=\u001b[0m \u001b[0mtext\u001b[0m\u001b[0;34m\u001b[0m\u001b[0;34m\u001b[0m\u001b[0m\n",
      "\u001b[0m\u001b[0;32m---> 18 \u001b[0;31m    \u001b[0;32mtry\u001b[0m\u001b[0;34m:\u001b[0m\u001b[0;34m\u001b[0m\u001b[0;34m\u001b[0m\u001b[0m\n",
      "\u001b[0m\u001b[0;32m     19 \u001b[0;31m        \u001b[0;31m# 1. Normalize math \\(...\\) to $...$\u001b[0m\u001b[0;34m\u001b[0m\u001b[0;34m\u001b[0m\u001b[0m\n",
      "\u001b[0m\u001b[0;32m     20 \u001b[0;31m        processed_text = re.sub(\n",
      "\u001b[0m\n"
     ]
    },
    {
     "name": "stdin",
     "output_type": "stream",
     "text": [
      "ipdb>  \n"
     ]
    },
    {
     "name": "stdout",
     "output_type": "stream",
     "text": [
      "> \u001b[0;32m/var/folders/4b/lxf1fvsj6hs_rs1t1kcpm2m0jfgnr5/T/ipykernel_81762/1729876278.py\u001b[0m(20)\u001b[0;36mnormalize_latex_math\u001b[0;34m()\u001b[0m\n",
      "\u001b[0;32m     18 \u001b[0;31m    \u001b[0;32mtry\u001b[0m\u001b[0;34m:\u001b[0m\u001b[0;34m\u001b[0m\u001b[0;34m\u001b[0m\u001b[0m\n",
      "\u001b[0m\u001b[0;32m     19 \u001b[0;31m        \u001b[0;31m# 1. Normalize math \\(...\\) to $...$\u001b[0m\u001b[0;34m\u001b[0m\u001b[0;34m\u001b[0m\u001b[0m\n",
      "\u001b[0m\u001b[0;32m---> 20 \u001b[0;31m        processed_text = re.sub(\n",
      "\u001b[0m\u001b[0;32m     21 \u001b[0;31m            \u001b[0;34mr'\\\\\\(\\s*(.*?)\\s*\\\\\\)'\u001b[0m\u001b[0;34m,\u001b[0m\u001b[0;34m\u001b[0m\u001b[0;34m\u001b[0m\u001b[0m\n",
      "\u001b[0m\u001b[0;32m     22 \u001b[0;31m            \u001b[0;32mlambda\u001b[0m \u001b[0mmatch\u001b[0m\u001b[0;34m:\u001b[0m \u001b[0;34mf\"${match.group(1).strip()}$\"\u001b[0m\u001b[0;34m,\u001b[0m\u001b[0;34m\u001b[0m\u001b[0;34m\u001b[0m\u001b[0m\n",
      "\u001b[0m\n"
     ]
    },
    {
     "name": "stdin",
     "output_type": "stream",
     "text": [
      "ipdb>  \n"
     ]
    },
    {
     "name": "stdout",
     "output_type": "stream",
     "text": [
      "> \u001b[0;32m/var/folders/4b/lxf1fvsj6hs_rs1t1kcpm2m0jfgnr5/T/ipykernel_81762/1729876278.py\u001b[0m(21)\u001b[0;36mnormalize_latex_math\u001b[0;34m()\u001b[0m\n",
      "\u001b[0;32m     19 \u001b[0;31m        \u001b[0;31m# 1. Normalize math \\(...\\) to $...$\u001b[0m\u001b[0;34m\u001b[0m\u001b[0;34m\u001b[0m\u001b[0m\n",
      "\u001b[0m\u001b[0;32m     20 \u001b[0;31m        processed_text = re.sub(\n",
      "\u001b[0m\u001b[0;32m---> 21 \u001b[0;31m            \u001b[0;34mr'\\\\\\(\\s*(.*?)\\s*\\\\\\)'\u001b[0m\u001b[0;34m,\u001b[0m\u001b[0;34m\u001b[0m\u001b[0;34m\u001b[0m\u001b[0m\n",
      "\u001b[0m\u001b[0;32m     22 \u001b[0;31m            \u001b[0;32mlambda\u001b[0m \u001b[0mmatch\u001b[0m\u001b[0;34m:\u001b[0m \u001b[0;34mf\"${match.group(1).strip()}$\"\u001b[0m\u001b[0;34m,\u001b[0m\u001b[0;34m\u001b[0m\u001b[0;34m\u001b[0m\u001b[0m\n",
      "\u001b[0m\u001b[0;32m     23 \u001b[0;31m            \u001b[0mprocessed_text\u001b[0m\u001b[0;34m\u001b[0m\u001b[0;34m\u001b[0m\u001b[0m\n",
      "\u001b[0m\n"
     ]
    },
    {
     "name": "stdin",
     "output_type": "stream",
     "text": [
      "ipdb>  \n"
     ]
    },
    {
     "name": "stdout",
     "output_type": "stream",
     "text": [
      "> \u001b[0;32m/var/folders/4b/lxf1fvsj6hs_rs1t1kcpm2m0jfgnr5/T/ipykernel_81762/1729876278.py\u001b[0m(22)\u001b[0;36mnormalize_latex_math\u001b[0;34m()\u001b[0m\n",
      "\u001b[0;32m     20 \u001b[0;31m        processed_text = re.sub(\n",
      "\u001b[0m\u001b[0;32m     21 \u001b[0;31m            \u001b[0;34mr'\\\\\\(\\s*(.*?)\\s*\\\\\\)'\u001b[0m\u001b[0;34m,\u001b[0m\u001b[0;34m\u001b[0m\u001b[0;34m\u001b[0m\u001b[0m\n",
      "\u001b[0m\u001b[0;32m---> 22 \u001b[0;31m            \u001b[0;32mlambda\u001b[0m \u001b[0mmatch\u001b[0m\u001b[0;34m:\u001b[0m \u001b[0;34mf\"${match.group(1).strip()}$\"\u001b[0m\u001b[0;34m,\u001b[0m\u001b[0;34m\u001b[0m\u001b[0;34m\u001b[0m\u001b[0m\n",
      "\u001b[0m\u001b[0;32m     23 \u001b[0;31m            \u001b[0mprocessed_text\u001b[0m\u001b[0;34m\u001b[0m\u001b[0;34m\u001b[0m\u001b[0m\n",
      "\u001b[0m\u001b[0;32m     24 \u001b[0;31m        )\n",
      "\u001b[0m\n"
     ]
    },
    {
     "name": "stdin",
     "output_type": "stream",
     "text": [
      "ipdb>  \n"
     ]
    },
    {
     "name": "stdout",
     "output_type": "stream",
     "text": [
      "> \u001b[0;32m/var/folders/4b/lxf1fvsj6hs_rs1t1kcpm2m0jfgnr5/T/ipykernel_81762/1729876278.py\u001b[0m(23)\u001b[0;36mnormalize_latex_math\u001b[0;34m()\u001b[0m\n",
      "\u001b[0;32m     21 \u001b[0;31m            \u001b[0;34mr'\\\\\\(\\s*(.*?)\\s*\\\\\\)'\u001b[0m\u001b[0;34m,\u001b[0m\u001b[0;34m\u001b[0m\u001b[0;34m\u001b[0m\u001b[0m\n",
      "\u001b[0m\u001b[0;32m     22 \u001b[0;31m            \u001b[0;32mlambda\u001b[0m \u001b[0mmatch\u001b[0m\u001b[0;34m:\u001b[0m \u001b[0;34mf\"${match.group(1).strip()}$\"\u001b[0m\u001b[0;34m,\u001b[0m\u001b[0;34m\u001b[0m\u001b[0;34m\u001b[0m\u001b[0m\n",
      "\u001b[0m\u001b[0;32m---> 23 \u001b[0;31m            \u001b[0mprocessed_text\u001b[0m\u001b[0;34m\u001b[0m\u001b[0;34m\u001b[0m\u001b[0m\n",
      "\u001b[0m\u001b[0;32m     24 \u001b[0;31m        )\n",
      "\u001b[0m\u001b[0;32m     25 \u001b[0;31m\u001b[0;34m\u001b[0m\u001b[0m\n",
      "\u001b[0m\n"
     ]
    },
    {
     "name": "stdin",
     "output_type": "stream",
     "text": [
      "ipdb>  \n"
     ]
    },
    {
     "name": "stdout",
     "output_type": "stream",
     "text": [
      "> \u001b[0;32m/var/folders/4b/lxf1fvsj6hs_rs1t1kcpm2m0jfgnr5/T/ipykernel_81762/1729876278.py\u001b[0m(20)\u001b[0;36mnormalize_latex_math\u001b[0;34m()\u001b[0m\n",
      "\u001b[0;32m     18 \u001b[0;31m    \u001b[0;32mtry\u001b[0m\u001b[0;34m:\u001b[0m\u001b[0;34m\u001b[0m\u001b[0;34m\u001b[0m\u001b[0m\n",
      "\u001b[0m\u001b[0;32m     19 \u001b[0;31m        \u001b[0;31m# 1. Normalize math \\(...\\) to $...$\u001b[0m\u001b[0;34m\u001b[0m\u001b[0;34m\u001b[0m\u001b[0m\n",
      "\u001b[0m\u001b[0;32m---> 20 \u001b[0;31m        processed_text = re.sub(\n",
      "\u001b[0m\u001b[0;32m     21 \u001b[0;31m            \u001b[0;34mr'\\\\\\(\\s*(.*?)\\s*\\\\\\)'\u001b[0m\u001b[0;34m,\u001b[0m\u001b[0;34m\u001b[0m\u001b[0;34m\u001b[0m\u001b[0m\n",
      "\u001b[0m\u001b[0;32m     22 \u001b[0;31m            \u001b[0;32mlambda\u001b[0m \u001b[0mmatch\u001b[0m\u001b[0;34m:\u001b[0m \u001b[0;34mf\"${match.group(1).strip()}$\"\u001b[0m\u001b[0;34m,\u001b[0m\u001b[0;34m\u001b[0m\u001b[0;34m\u001b[0m\u001b[0m\n",
      "\u001b[0m\n"
     ]
    },
    {
     "name": "stdin",
     "output_type": "stream",
     "text": [
      "ipdb>  processed_text\n"
     ]
    },
    {
     "name": "stdout",
     "output_type": "stream",
     "text": [
      "'$\\\\alpha Z$'\n"
     ]
    },
    {
     "name": "stdin",
     "output_type": "stream",
     "text": [
      "ipdb>  \n"
     ]
    },
    {
     "name": "stdout",
     "output_type": "stream",
     "text": [
      "'$\\\\alpha Z$'\n"
     ]
    },
    {
     "name": "stdin",
     "output_type": "stream",
     "text": [
      "ipdb>  \n"
     ]
    },
    {
     "name": "stdout",
     "output_type": "stream",
     "text": [
      "'$\\\\alpha Z$'\n"
     ]
    },
    {
     "name": "stdin",
     "output_type": "stream",
     "text": [
      "ipdb>  \n"
     ]
    },
    {
     "name": "stdout",
     "output_type": "stream",
     "text": [
      "'$\\\\alpha Z$'\n"
     ]
    },
    {
     "name": "stdin",
     "output_type": "stream",
     "text": [
      "ipdb>  \n"
     ]
    },
    {
     "name": "stdout",
     "output_type": "stream",
     "text": [
      "'$\\\\alpha Z$'\n"
     ]
    },
    {
     "name": "stdin",
     "output_type": "stream",
     "text": [
      "ipdb>  \n"
     ]
    },
    {
     "name": "stdout",
     "output_type": "stream",
     "text": [
      "'$\\\\alpha Z$'\n"
     ]
    },
    {
     "name": "stdin",
     "output_type": "stream",
     "text": [
      "ipdb>  n\n"
     ]
    },
    {
     "name": "stdout",
     "output_type": "stream",
     "text": [
      "> \u001b[0;32m/var/folders/4b/lxf1fvsj6hs_rs1t1kcpm2m0jfgnr5/T/ipykernel_81762/1729876278.py\u001b[0m(27)\u001b[0;36mnormalize_latex_math\u001b[0;34m()\u001b[0m\n",
      "\u001b[0;32m     25 \u001b[0;31m\u001b[0;34m\u001b[0m\u001b[0m\n",
      "\u001b[0m\u001b[0;32m     26 \u001b[0;31m        \u001b[0;31m# 2. Remove LaTeX comment lines (respects \\%)\u001b[0m\u001b[0;34m\u001b[0m\u001b[0;34m\u001b[0m\u001b[0m\n",
      "\u001b[0m\u001b[0;32m---> 27 \u001b[0;31m        \u001b[0mprocessed_text\u001b[0m \u001b[0;34m=\u001b[0m \u001b[0mre\u001b[0m\u001b[0;34m.\u001b[0m\u001b[0msub\u001b[0m\u001b[0;34m(\u001b[0m\u001b[0;34mr'(?<!\\\\)%.*$'\u001b[0m\u001b[0;34m,\u001b[0m \u001b[0;34m''\u001b[0m\u001b[0;34m,\u001b[0m \u001b[0mprocessed_text\u001b[0m\u001b[0;34m,\u001b[0m \u001b[0mflags\u001b[0m\u001b[0;34m=\u001b[0m\u001b[0mre\u001b[0m\u001b[0;34m.\u001b[0m\u001b[0mMULTILINE\u001b[0m\u001b[0;34m)\u001b[0m\u001b[0;34m\u001b[0m\u001b[0;34m\u001b[0m\u001b[0m\n",
      "\u001b[0m\u001b[0;32m     28 \u001b[0;31m\u001b[0;34m\u001b[0m\u001b[0m\n",
      "\u001b[0m\u001b[0;32m     29 \u001b[0;31m        \u001b[0;31m# 3. Remove preamble IF \\begin{document} exists\u001b[0m\u001b[0;34m\u001b[0m\u001b[0;34m\u001b[0m\u001b[0m\n",
      "\u001b[0m\n"
     ]
    },
    {
     "name": "stdin",
     "output_type": "stream",
     "text": [
      "ipdb>  process_text\n"
     ]
    },
    {
     "name": "stdout",
     "output_type": "stream",
     "text": [
      "*** NameError: name 'process_text' is not defined\n"
     ]
    },
    {
     "name": "stdin",
     "output_type": "stream",
     "text": [
      "ipdb>  processed_text\n"
     ]
    },
    {
     "name": "stdout",
     "output_type": "stream",
     "text": [
      "'$\\\\alpha Z$'\n"
     ]
    },
    {
     "name": "stdin",
     "output_type": "stream",
     "text": [
      "ipdb>  n\n"
     ]
    },
    {
     "name": "stdout",
     "output_type": "stream",
     "text": [
      "> \u001b[0;32m/var/folders/4b/lxf1fvsj6hs_rs1t1kcpm2m0jfgnr5/T/ipykernel_81762/1729876278.py\u001b[0m(30)\u001b[0;36mnormalize_latex_math\u001b[0;34m()\u001b[0m\n",
      "\u001b[0;32m     28 \u001b[0;31m\u001b[0;34m\u001b[0m\u001b[0m\n",
      "\u001b[0m\u001b[0;32m     29 \u001b[0;31m        \u001b[0;31m# 3. Remove preamble IF \\begin{document} exists\u001b[0m\u001b[0;34m\u001b[0m\u001b[0;34m\u001b[0m\u001b[0m\n",
      "\u001b[0m\u001b[0;32m---> 30 \u001b[0;31m        \u001b[0mbegin_doc_marker\u001b[0m \u001b[0;34m=\u001b[0m \u001b[0;34mr'\\begin{document}'\u001b[0m\u001b[0;34m\u001b[0m\u001b[0;34m\u001b[0m\u001b[0m\n",
      "\u001b[0m\u001b[0;32m     31 \u001b[0;31m        \u001b[0mbegin_doc_index\u001b[0m \u001b[0;34m=\u001b[0m \u001b[0mprocessed_text\u001b[0m\u001b[0;34m.\u001b[0m\u001b[0mfind\u001b[0m\u001b[0;34m(\u001b[0m\u001b[0mbegin_doc_marker\u001b[0m\u001b[0;34m)\u001b[0m\u001b[0;34m\u001b[0m\u001b[0;34m\u001b[0m\u001b[0m\n",
      "\u001b[0m\u001b[0;32m     32 \u001b[0;31m        \u001b[0;32mif\u001b[0m \u001b[0mbegin_doc_index\u001b[0m \u001b[0;34m!=\u001b[0m \u001b[0;34m-\u001b[0m\u001b[0;36m1\u001b[0m\u001b[0;34m:\u001b[0m\u001b[0;34m\u001b[0m\u001b[0;34m\u001b[0m\u001b[0m\n",
      "\u001b[0m\n"
     ]
    },
    {
     "name": "stdin",
     "output_type": "stream",
     "text": [
      "ipdb>  processed_text\n"
     ]
    },
    {
     "name": "stdout",
     "output_type": "stream",
     "text": [
      "'$\\\\alpha Z$'\n"
     ]
    },
    {
     "name": "stdin",
     "output_type": "stream",
     "text": [
      "ipdb>  n\n"
     ]
    },
    {
     "name": "stdout",
     "output_type": "stream",
     "text": [
      "> \u001b[0;32m/var/folders/4b/lxf1fvsj6hs_rs1t1kcpm2m0jfgnr5/T/ipykernel_81762/1729876278.py\u001b[0m(31)\u001b[0;36mnormalize_latex_math\u001b[0;34m()\u001b[0m\n",
      "\u001b[0;32m     29 \u001b[0;31m        \u001b[0;31m# 3. Remove preamble IF \\begin{document} exists\u001b[0m\u001b[0;34m\u001b[0m\u001b[0;34m\u001b[0m\u001b[0m\n",
      "\u001b[0m\u001b[0;32m     30 \u001b[0;31m        \u001b[0mbegin_doc_marker\u001b[0m \u001b[0;34m=\u001b[0m \u001b[0;34mr'\\begin{document}'\u001b[0m\u001b[0;34m\u001b[0m\u001b[0;34m\u001b[0m\u001b[0m\n",
      "\u001b[0m\u001b[0;32m---> 31 \u001b[0;31m        \u001b[0mbegin_doc_index\u001b[0m \u001b[0;34m=\u001b[0m \u001b[0mprocessed_text\u001b[0m\u001b[0;34m.\u001b[0m\u001b[0mfind\u001b[0m\u001b[0;34m(\u001b[0m\u001b[0mbegin_doc_marker\u001b[0m\u001b[0;34m)\u001b[0m\u001b[0;34m\u001b[0m\u001b[0;34m\u001b[0m\u001b[0m\n",
      "\u001b[0m\u001b[0;32m     32 \u001b[0;31m        \u001b[0;32mif\u001b[0m \u001b[0mbegin_doc_index\u001b[0m \u001b[0;34m!=\u001b[0m \u001b[0;34m-\u001b[0m\u001b[0;36m1\u001b[0m\u001b[0;34m:\u001b[0m\u001b[0;34m\u001b[0m\u001b[0;34m\u001b[0m\u001b[0m\n",
      "\u001b[0m\u001b[0;32m     33 \u001b[0;31m            \u001b[0mprocessed_text\u001b[0m \u001b[0;34m=\u001b[0m \u001b[0mprocessed_text\u001b[0m\u001b[0;34m[\u001b[0m\u001b[0mbegin_doc_index\u001b[0m \u001b[0;34m+\u001b[0m \u001b[0mlen\u001b[0m\u001b[0;34m(\u001b[0m\u001b[0mbegin_doc_marker\u001b[0m\u001b[0;34m)\u001b[0m\u001b[0;34m:\u001b[0m\u001b[0;34m]\u001b[0m\u001b[0;34m\u001b[0m\u001b[0;34m\u001b[0m\u001b[0m\n",
      "\u001b[0m\n"
     ]
    },
    {
     "name": "stdin",
     "output_type": "stream",
     "text": [
      "ipdb>  \n"
     ]
    },
    {
     "name": "stdout",
     "output_type": "stream",
     "text": [
      "> \u001b[0;32m/var/folders/4b/lxf1fvsj6hs_rs1t1kcpm2m0jfgnr5/T/ipykernel_81762/1729876278.py\u001b[0m(32)\u001b[0;36mnormalize_latex_math\u001b[0;34m()\u001b[0m\n",
      "\u001b[0;32m     30 \u001b[0;31m        \u001b[0mbegin_doc_marker\u001b[0m \u001b[0;34m=\u001b[0m \u001b[0;34mr'\\begin{document}'\u001b[0m\u001b[0;34m\u001b[0m\u001b[0;34m\u001b[0m\u001b[0m\n",
      "\u001b[0m\u001b[0;32m     31 \u001b[0;31m        \u001b[0mbegin_doc_index\u001b[0m \u001b[0;34m=\u001b[0m \u001b[0mprocessed_text\u001b[0m\u001b[0;34m.\u001b[0m\u001b[0mfind\u001b[0m\u001b[0;34m(\u001b[0m\u001b[0mbegin_doc_marker\u001b[0m\u001b[0;34m)\u001b[0m\u001b[0;34m\u001b[0m\u001b[0;34m\u001b[0m\u001b[0m\n",
      "\u001b[0m\u001b[0;32m---> 32 \u001b[0;31m        \u001b[0;32mif\u001b[0m \u001b[0mbegin_doc_index\u001b[0m \u001b[0;34m!=\u001b[0m \u001b[0;34m-\u001b[0m\u001b[0;36m1\u001b[0m\u001b[0;34m:\u001b[0m\u001b[0;34m\u001b[0m\u001b[0;34m\u001b[0m\u001b[0m\n",
      "\u001b[0m\u001b[0;32m     33 \u001b[0;31m            \u001b[0mprocessed_text\u001b[0m \u001b[0;34m=\u001b[0m \u001b[0mprocessed_text\u001b[0m\u001b[0;34m[\u001b[0m\u001b[0mbegin_doc_index\u001b[0m \u001b[0;34m+\u001b[0m \u001b[0mlen\u001b[0m\u001b[0;34m(\u001b[0m\u001b[0mbegin_doc_marker\u001b[0m\u001b[0;34m)\u001b[0m\u001b[0;34m:\u001b[0m\u001b[0;34m]\u001b[0m\u001b[0;34m\u001b[0m\u001b[0;34m\u001b[0m\u001b[0m\n",
      "\u001b[0m\u001b[0;32m     34 \u001b[0;31m        \u001b[0;31m# 3b. Remove \\end{document} if present near the end\u001b[0m\u001b[0;34m\u001b[0m\u001b[0;34m\u001b[0m\u001b[0m\n",
      "\u001b[0m\n"
     ]
    },
    {
     "name": "stdin",
     "output_type": "stream",
     "text": [
      "ipdb>  \n"
     ]
    },
    {
     "name": "stdout",
     "output_type": "stream",
     "text": [
      "> \u001b[0;32m/var/folders/4b/lxf1fvsj6hs_rs1t1kcpm2m0jfgnr5/T/ipykernel_81762/1729876278.py\u001b[0m(35)\u001b[0;36mnormalize_latex_math\u001b[0;34m()\u001b[0m\n",
      "\u001b[0;32m     33 \u001b[0;31m            \u001b[0mprocessed_text\u001b[0m \u001b[0;34m=\u001b[0m \u001b[0mprocessed_text\u001b[0m\u001b[0;34m[\u001b[0m\u001b[0mbegin_doc_index\u001b[0m \u001b[0;34m+\u001b[0m \u001b[0mlen\u001b[0m\u001b[0;34m(\u001b[0m\u001b[0mbegin_doc_marker\u001b[0m\u001b[0;34m)\u001b[0m\u001b[0;34m:\u001b[0m\u001b[0;34m]\u001b[0m\u001b[0;34m\u001b[0m\u001b[0;34m\u001b[0m\u001b[0m\n",
      "\u001b[0m\u001b[0;32m     34 \u001b[0;31m        \u001b[0;31m# 3b. Remove \\end{document} if present near the end\u001b[0m\u001b[0;34m\u001b[0m\u001b[0;34m\u001b[0m\u001b[0m\n",
      "\u001b[0m\u001b[0;32m---> 35 \u001b[0;31m        \u001b[0mend_doc_marker\u001b[0m \u001b[0;34m=\u001b[0m \u001b[0;34mr'\\end{document}'\u001b[0m\u001b[0;34m\u001b[0m\u001b[0;34m\u001b[0m\u001b[0m\n",
      "\u001b[0m\u001b[0;32m     36 \u001b[0;31m        \u001b[0mend_doc_index\u001b[0m \u001b[0;34m=\u001b[0m \u001b[0mprocessed_text\u001b[0m\u001b[0;34m.\u001b[0m\u001b[0mrfind\u001b[0m\u001b[0;34m(\u001b[0m\u001b[0mend_doc_marker\u001b[0m\u001b[0;34m)\u001b[0m\u001b[0;34m\u001b[0m\u001b[0;34m\u001b[0m\u001b[0m\n",
      "\u001b[0m\u001b[0;32m     37 \u001b[0;31m        \u001b[0;32mif\u001b[0m \u001b[0mend_doc_index\u001b[0m \u001b[0;34m!=\u001b[0m \u001b[0;34m-\u001b[0m\u001b[0;36m1\u001b[0m \u001b[0;32mand\u001b[0m \u001b[0mlen\u001b[0m\u001b[0;34m(\u001b[0m\u001b[0mprocessed_text\u001b[0m\u001b[0;34m)\u001b[0m \u001b[0;34m-\u001b[0m \u001b[0mend_doc_index\u001b[0m \u001b[0;34m<\u001b[0m \u001b[0;36m30\u001b[0m\u001b[0;34m:\u001b[0m\u001b[0;34m\u001b[0m\u001b[0;34m\u001b[0m\u001b[0m\n",
      "\u001b[0m\n"
     ]
    },
    {
     "name": "stdin",
     "output_type": "stream",
     "text": [
      "ipdb>  n\n"
     ]
    },
    {
     "name": "stdout",
     "output_type": "stream",
     "text": [
      "> \u001b[0;32m/var/folders/4b/lxf1fvsj6hs_rs1t1kcpm2m0jfgnr5/T/ipykernel_81762/1729876278.py\u001b[0m(36)\u001b[0;36mnormalize_latex_math\u001b[0;34m()\u001b[0m\n",
      "\u001b[0;32m     34 \u001b[0;31m        \u001b[0;31m# 3b. Remove \\end{document} if present near the end\u001b[0m\u001b[0;34m\u001b[0m\u001b[0;34m\u001b[0m\u001b[0m\n",
      "\u001b[0m\u001b[0;32m     35 \u001b[0;31m        \u001b[0mend_doc_marker\u001b[0m \u001b[0;34m=\u001b[0m \u001b[0;34mr'\\end{document}'\u001b[0m\u001b[0;34m\u001b[0m\u001b[0;34m\u001b[0m\u001b[0m\n",
      "\u001b[0m\u001b[0;32m---> 36 \u001b[0;31m        \u001b[0mend_doc_index\u001b[0m \u001b[0;34m=\u001b[0m \u001b[0mprocessed_text\u001b[0m\u001b[0;34m.\u001b[0m\u001b[0mrfind\u001b[0m\u001b[0;34m(\u001b[0m\u001b[0mend_doc_marker\u001b[0m\u001b[0;34m)\u001b[0m\u001b[0;34m\u001b[0m\u001b[0;34m\u001b[0m\u001b[0m\n",
      "\u001b[0m\u001b[0;32m     37 \u001b[0;31m        \u001b[0;32mif\u001b[0m \u001b[0mend_doc_index\u001b[0m \u001b[0;34m!=\u001b[0m \u001b[0;34m-\u001b[0m\u001b[0;36m1\u001b[0m \u001b[0;32mand\u001b[0m \u001b[0mlen\u001b[0m\u001b[0;34m(\u001b[0m\u001b[0mprocessed_text\u001b[0m\u001b[0;34m)\u001b[0m \u001b[0;34m-\u001b[0m \u001b[0mend_doc_index\u001b[0m \u001b[0;34m<\u001b[0m \u001b[0;36m30\u001b[0m\u001b[0;34m:\u001b[0m\u001b[0;34m\u001b[0m\u001b[0;34m\u001b[0m\u001b[0m\n",
      "\u001b[0m\u001b[0;32m     38 \u001b[0;31m            \u001b[0mprocessed_text\u001b[0m \u001b[0;34m=\u001b[0m \u001b[0mprocessed_text\u001b[0m\u001b[0;34m[\u001b[0m\u001b[0;34m:\u001b[0m\u001b[0mend_doc_index\u001b[0m\u001b[0;34m]\u001b[0m\u001b[0;34m\u001b[0m\u001b[0;34m\u001b[0m\u001b[0m\n",
      "\u001b[0m\n"
     ]
    },
    {
     "name": "stdin",
     "output_type": "stream",
     "text": [
      "ipdb>  n\n"
     ]
    },
    {
     "name": "stdout",
     "output_type": "stream",
     "text": [
      "> \u001b[0;32m/var/folders/4b/lxf1fvsj6hs_rs1t1kcpm2m0jfgnr5/T/ipykernel_81762/1729876278.py\u001b[0m(37)\u001b[0;36mnormalize_latex_math\u001b[0;34m()\u001b[0m\n",
      "\u001b[0;32m     35 \u001b[0;31m        \u001b[0mend_doc_marker\u001b[0m \u001b[0;34m=\u001b[0m \u001b[0;34mr'\\end{document}'\u001b[0m\u001b[0;34m\u001b[0m\u001b[0;34m\u001b[0m\u001b[0m\n",
      "\u001b[0m\u001b[0;32m     36 \u001b[0;31m        \u001b[0mend_doc_index\u001b[0m \u001b[0;34m=\u001b[0m \u001b[0mprocessed_text\u001b[0m\u001b[0;34m.\u001b[0m\u001b[0mrfind\u001b[0m\u001b[0;34m(\u001b[0m\u001b[0mend_doc_marker\u001b[0m\u001b[0;34m)\u001b[0m\u001b[0;34m\u001b[0m\u001b[0;34m\u001b[0m\u001b[0m\n",
      "\u001b[0m\u001b[0;32m---> 37 \u001b[0;31m        \u001b[0;32mif\u001b[0m \u001b[0mend_doc_index\u001b[0m \u001b[0;34m!=\u001b[0m \u001b[0;34m-\u001b[0m\u001b[0;36m1\u001b[0m \u001b[0;32mand\u001b[0m \u001b[0mlen\u001b[0m\u001b[0;34m(\u001b[0m\u001b[0mprocessed_text\u001b[0m\u001b[0;34m)\u001b[0m \u001b[0;34m-\u001b[0m \u001b[0mend_doc_index\u001b[0m \u001b[0;34m<\u001b[0m \u001b[0;36m30\u001b[0m\u001b[0;34m:\u001b[0m\u001b[0;34m\u001b[0m\u001b[0;34m\u001b[0m\u001b[0m\n",
      "\u001b[0m\u001b[0;32m     38 \u001b[0;31m            \u001b[0mprocessed_text\u001b[0m \u001b[0;34m=\u001b[0m \u001b[0mprocessed_text\u001b[0m\u001b[0;34m[\u001b[0m\u001b[0;34m:\u001b[0m\u001b[0mend_doc_index\u001b[0m\u001b[0;34m]\u001b[0m\u001b[0;34m\u001b[0m\u001b[0;34m\u001b[0m\u001b[0m\n",
      "\u001b[0m\u001b[0;32m     39 \u001b[0;31m\u001b[0;34m\u001b[0m\u001b[0m\n",
      "\u001b[0m\n"
     ]
    },
    {
     "name": "stdin",
     "output_type": "stream",
     "text": [
      "ipdb>  n\n"
     ]
    },
    {
     "name": "stdout",
     "output_type": "stream",
     "text": [
      "> \u001b[0;32m/var/folders/4b/lxf1fvsj6hs_rs1t1kcpm2m0jfgnr5/T/ipykernel_81762/1729876278.py\u001b[0m(42)\u001b[0;36mnormalize_latex_math\u001b[0;34m()\u001b[0m\n",
      "\u001b[0;32m     40 \u001b[0;31m        \u001b[0;31m# --- Spacing Adjustments ---\u001b[0m\u001b[0;34m\u001b[0m\u001b[0;34m\u001b[0m\u001b[0m\n",
      "\u001b[0m\u001b[0;32m     41 \u001b[0;31m        \u001b[0;31m# 4. Add space after {\u001b[0m\u001b[0;34m\u001b[0m\u001b[0;34m\u001b[0m\u001b[0m\n",
      "\u001b[0m\u001b[0;32m---> 42 \u001b[0;31m        \u001b[0mprocessed_text\u001b[0m \u001b[0;34m=\u001b[0m \u001b[0mre\u001b[0m\u001b[0;34m.\u001b[0m\u001b[0msub\u001b[0m\u001b[0;34m(\u001b[0m\u001b[0;34mr'\\{'\u001b[0m\u001b[0;34m,\u001b[0m \u001b[0;34mr'{ '\u001b[0m\u001b[0;34m,\u001b[0m \u001b[0mprocessed_text\u001b[0m\u001b[0;34m)\u001b[0m\u001b[0;34m\u001b[0m\u001b[0;34m\u001b[0m\u001b[0m\n",
      "\u001b[0m\u001b[0;32m     43 \u001b[0;31m\u001b[0;34m\u001b[0m\u001b[0m\n",
      "\u001b[0m\u001b[0;32m     44 \u001b[0;31m        \u001b[0;31m# 5. Add space after lowercase commands (\\cmd) if not followed by space\u001b[0m\u001b[0;34m\u001b[0m\u001b[0;34m\u001b[0m\u001b[0m\n",
      "\u001b[0m\n"
     ]
    },
    {
     "name": "stdin",
     "output_type": "stream",
     "text": [
      "ipdb>  n\n"
     ]
    },
    {
     "name": "stdout",
     "output_type": "stream",
     "text": [
      "> \u001b[0;32m/var/folders/4b/lxf1fvsj6hs_rs1t1kcpm2m0jfgnr5/T/ipykernel_81762/1729876278.py\u001b[0m(45)\u001b[0;36mnormalize_latex_math\u001b[0;34m()\u001b[0m\n",
      "\u001b[0;32m     43 \u001b[0;31m\u001b[0;34m\u001b[0m\u001b[0m\n",
      "\u001b[0m\u001b[0;32m     44 \u001b[0;31m        \u001b[0;31m# 5. Add space after lowercase commands (\\cmd) if not followed by space\u001b[0m\u001b[0;34m\u001b[0m\u001b[0;34m\u001b[0m\u001b[0m\n",
      "\u001b[0m\u001b[0;32m---> 45 \u001b[0;31m        \u001b[0mprocessed_text\u001b[0m \u001b[0;34m=\u001b[0m \u001b[0mre\u001b[0m\u001b[0;34m.\u001b[0m\u001b[0msub\u001b[0m\u001b[0;34m(\u001b[0m\u001b[0;34mr'(\\\\[a-z]+)(?!\\s)'\u001b[0m\u001b[0;34m,\u001b[0m \u001b[0;34mr'\\1 '\u001b[0m\u001b[0;34m,\u001b[0m \u001b[0mprocessed_text\u001b[0m\u001b[0;34m)\u001b[0m\u001b[0;34m\u001b[0m\u001b[0;34m\u001b[0m\u001b[0m\n",
      "\u001b[0m\u001b[0;32m     46 \u001b[0;31m\u001b[0;34m\u001b[0m\u001b[0m\n",
      "\u001b[0m\u001b[0;32m     47 \u001b[0;31m        \u001b[0;31m# --- NEW STEP 6 ---\u001b[0m\u001b[0;34m\u001b[0m\u001b[0;34m\u001b[0m\u001b[0m\n",
      "\u001b[0m\n"
     ]
    },
    {
     "name": "stdin",
     "output_type": "stream",
     "text": [
      "ipdb>  processed_text\n"
     ]
    },
    {
     "name": "stdout",
     "output_type": "stream",
     "text": [
      "'$\\\\alpha Z$'\n"
     ]
    },
    {
     "name": "stdin",
     "output_type": "stream",
     "text": [
      "ipdb>  n\n"
     ]
    },
    {
     "name": "stdout",
     "output_type": "stream",
     "text": [
      "> \u001b[0;32m/var/folders/4b/lxf1fvsj6hs_rs1t1kcpm2m0jfgnr5/T/ipykernel_81762/1729876278.py\u001b[0m(49)\u001b[0;36mnormalize_latex_math\u001b[0;34m()\u001b[0m\n",
      "\u001b[0;32m     47 \u001b[0;31m        \u001b[0;31m# --- NEW STEP 6 ---\u001b[0m\u001b[0;34m\u001b[0m\u001b[0;34m\u001b[0m\u001b[0m\n",
      "\u001b[0m\u001b[0;32m     48 \u001b[0;31m        \u001b[0;31m# 6. Add space after specific uppercase Greek commands (\\Cmd) if not followed by space\u001b[0m\u001b[0;34m\u001b[0m\u001b[0;34m\u001b[0m\u001b[0m\n",
      "\u001b[0m\u001b[0;32m---> 49 \u001b[0;31m        upper_greek_cmds = [\n",
      "\u001b[0m\u001b[0;32m     50 \u001b[0;31m            \u001b[0;34m'Gamma'\u001b[0m\u001b[0;34m,\u001b[0m \u001b[0;34m'Delta'\u001b[0m\u001b[0;34m,\u001b[0m \u001b[0;34m'Theta'\u001b[0m\u001b[0;34m,\u001b[0m \u001b[0;34m'Lambda'\u001b[0m\u001b[0;34m,\u001b[0m \u001b[0;34m'Xi'\u001b[0m\u001b[0;34m,\u001b[0m \u001b[0;34m'Pi'\u001b[0m\u001b[0;34m,\u001b[0m\u001b[0;34m\u001b[0m\u001b[0;34m\u001b[0m\u001b[0m\n",
      "\u001b[0m\u001b[0;32m     51 \u001b[0;31m            \u001b[0;34m'Sigma'\u001b[0m\u001b[0;34m,\u001b[0m \u001b[0;34m'Upsilon'\u001b[0m\u001b[0;34m,\u001b[0m \u001b[0;34m'Phi'\u001b[0m\u001b[0;34m,\u001b[0m \u001b[0;34m'Psi'\u001b[0m\u001b[0;34m,\u001b[0m \u001b[0;34m'Omega'\u001b[0m\u001b[0;34m\u001b[0m\u001b[0;34m\u001b[0m\u001b[0m\n",
      "\u001b[0m\n"
     ]
    },
    {
     "name": "stdin",
     "output_type": "stream",
     "text": [
      "ipdb>  n\n"
     ]
    },
    {
     "name": "stdout",
     "output_type": "stream",
     "text": [
      "> \u001b[0;32m/var/folders/4b/lxf1fvsj6hs_rs1t1kcpm2m0jfgnr5/T/ipykernel_81762/1729876278.py\u001b[0m(54)\u001b[0;36mnormalize_latex_math\u001b[0;34m()\u001b[0m\n",
      "\u001b[0;32m     52 \u001b[0;31m            ]\n",
      "\u001b[0m\u001b[0;32m     53 \u001b[0;31m        \u001b[0;31m# Create pattern part like: Gamma|Delta|Theta...\u001b[0m\u001b[0;34m\u001b[0m\u001b[0;34m\u001b[0m\u001b[0m\n",
      "\u001b[0m\u001b[0;32m---> 54 \u001b[0;31m        \u001b[0mpattern_part\u001b[0m \u001b[0;34m=\u001b[0m \u001b[0;34m'|'\u001b[0m\u001b[0;34m.\u001b[0m\u001b[0mjoin\u001b[0m\u001b[0;34m(\u001b[0m\u001b[0mupper_greek_cmds\u001b[0m\u001b[0;34m)\u001b[0m\u001b[0;34m\u001b[0m\u001b[0;34m\u001b[0m\u001b[0m\n",
      "\u001b[0m\u001b[0;32m     55 \u001b[0;31m        \u001b[0;31m# Regex captures (\\ + one of the commands), checks no following whitespace\u001b[0m\u001b[0;34m\u001b[0m\u001b[0;34m\u001b[0m\u001b[0m\n",
      "\u001b[0m\u001b[0;32m     56 \u001b[0;31m        \u001b[0mpattern_upper\u001b[0m \u001b[0;34m=\u001b[0m \u001b[0;34mrf'(\\\\ (?:{pattern_part}))(?!\\s)'\u001b[0m\u001b[0;34m\u001b[0m\u001b[0;34m\u001b[0m\u001b[0m\n",
      "\u001b[0m\n"
     ]
    },
    {
     "name": "stdin",
     "output_type": "stream",
     "text": [
      "ipdb>  n\n"
     ]
    },
    {
     "name": "stdout",
     "output_type": "stream",
     "text": [
      "> \u001b[0;32m/var/folders/4b/lxf1fvsj6hs_rs1t1kcpm2m0jfgnr5/T/ipykernel_81762/1729876278.py\u001b[0m(56)\u001b[0;36mnormalize_latex_math\u001b[0;34m()\u001b[0m\n",
      "\u001b[0;32m     54 \u001b[0;31m        \u001b[0mpattern_part\u001b[0m \u001b[0;34m=\u001b[0m \u001b[0;34m'|'\u001b[0m\u001b[0;34m.\u001b[0m\u001b[0mjoin\u001b[0m\u001b[0;34m(\u001b[0m\u001b[0mupper_greek_cmds\u001b[0m\u001b[0;34m)\u001b[0m\u001b[0;34m\u001b[0m\u001b[0;34m\u001b[0m\u001b[0m\n",
      "\u001b[0m\u001b[0;32m     55 \u001b[0;31m        \u001b[0;31m# Regex captures (\\ + one of the commands), checks no following whitespace\u001b[0m\u001b[0;34m\u001b[0m\u001b[0;34m\u001b[0m\u001b[0m\n",
      "\u001b[0m\u001b[0;32m---> 56 \u001b[0;31m        \u001b[0mpattern_upper\u001b[0m \u001b[0;34m=\u001b[0m \u001b[0;34mrf'(\\\\ (?:{pattern_part}))(?!\\s)'\u001b[0m\u001b[0;34m\u001b[0m\u001b[0;34m\u001b[0m\u001b[0m\n",
      "\u001b[0m\u001b[0;32m     57 \u001b[0;31m        \u001b[0;31m# Replacement adds back captured command (group 1) + space\u001b[0m\u001b[0;34m\u001b[0m\u001b[0;34m\u001b[0m\u001b[0m\n",
      "\u001b[0m\u001b[0;32m     58 \u001b[0;31m        \u001b[0mprocessed_text\u001b[0m \u001b[0;34m=\u001b[0m \u001b[0mre\u001b[0m\u001b[0;34m.\u001b[0m\u001b[0msub\u001b[0m\u001b[0;34m(\u001b[0m\u001b[0mpattern_upper\u001b[0m\u001b[0;34m,\u001b[0m \u001b[0;34mr'\\1 '\u001b[0m\u001b[0;34m,\u001b[0m \u001b[0mprocessed_text\u001b[0m\u001b[0;34m)\u001b[0m\u001b[0;34m\u001b[0m\u001b[0;34m\u001b[0m\u001b[0m\n",
      "\u001b[0m\n"
     ]
    },
    {
     "name": "stdin",
     "output_type": "stream",
     "text": [
      "ipdb>  n\n"
     ]
    },
    {
     "name": "stdout",
     "output_type": "stream",
     "text": [
      "> \u001b[0;32m/var/folders/4b/lxf1fvsj6hs_rs1t1kcpm2m0jfgnr5/T/ipykernel_81762/1729876278.py\u001b[0m(58)\u001b[0;36mnormalize_latex_math\u001b[0;34m()\u001b[0m\n",
      "\u001b[0;32m     56 \u001b[0;31m        \u001b[0mpattern_upper\u001b[0m \u001b[0;34m=\u001b[0m \u001b[0;34mrf'(\\\\ (?:{pattern_part}))(?!\\s)'\u001b[0m\u001b[0;34m\u001b[0m\u001b[0;34m\u001b[0m\u001b[0m\n",
      "\u001b[0m\u001b[0;32m     57 \u001b[0;31m        \u001b[0;31m# Replacement adds back captured command (group 1) + space\u001b[0m\u001b[0;34m\u001b[0m\u001b[0;34m\u001b[0m\u001b[0m\n",
      "\u001b[0m\u001b[0;32m---> 58 \u001b[0;31m        \u001b[0mprocessed_text\u001b[0m \u001b[0;34m=\u001b[0m \u001b[0mre\u001b[0m\u001b[0;34m.\u001b[0m\u001b[0msub\u001b[0m\u001b[0;34m(\u001b[0m\u001b[0mpattern_upper\u001b[0m\u001b[0;34m,\u001b[0m \u001b[0;34mr'\\1 '\u001b[0m\u001b[0;34m,\u001b[0m \u001b[0mprocessed_text\u001b[0m\u001b[0;34m)\u001b[0m\u001b[0;34m\u001b[0m\u001b[0;34m\u001b[0m\u001b[0m\n",
      "\u001b[0m\u001b[0;32m     59 \u001b[0;31m        \u001b[0;31m# --- End NEW STEP 6 ---\u001b[0m\u001b[0;34m\u001b[0m\u001b[0;34m\u001b[0m\u001b[0m\n",
      "\u001b[0m\u001b[0;32m     60 \u001b[0;31m\u001b[0;34m\u001b[0m\u001b[0m\n",
      "\u001b[0m\n"
     ]
    },
    {
     "name": "stdin",
     "output_type": "stream",
     "text": [
      "ipdb>  n\n"
     ]
    },
    {
     "name": "stdout",
     "output_type": "stream",
     "text": [
      "> \u001b[0;32m/var/folders/4b/lxf1fvsj6hs_rs1t1kcpm2m0jfgnr5/T/ipykernel_81762/1729876278.py\u001b[0m(62)\u001b[0;36mnormalize_latex_math\u001b[0;34m()\u001b[0m\n",
      "\u001b[0;32m     60 \u001b[0;31m\u001b[0;34m\u001b[0m\u001b[0m\n",
      "\u001b[0m\u001b[0;32m     61 \u001b[0;31m        \u001b[0;31m# 7. Clean up potential excessive blank lines\u001b[0m\u001b[0;34m\u001b[0m\u001b[0;34m\u001b[0m\u001b[0m\n",
      "\u001b[0m\u001b[0;32m---> 62 \u001b[0;31m        \u001b[0mprocessed_text\u001b[0m \u001b[0;34m=\u001b[0m \u001b[0mre\u001b[0m\u001b[0;34m.\u001b[0m\u001b[0msub\u001b[0m\u001b[0;34m(\u001b[0m\u001b[0;34mr'(\\n\\s*){2,}'\u001b[0m\u001b[0;34m,\u001b[0m \u001b[0;34m'\\n'\u001b[0m\u001b[0;34m,\u001b[0m \u001b[0mprocessed_text\u001b[0m\u001b[0;34m)\u001b[0m\u001b[0;34m\u001b[0m\u001b[0;34m\u001b[0m\u001b[0m\n",
      "\u001b[0m\u001b[0;32m     63 \u001b[0;31m        \u001b[0;31m# Remove leading/trailing whitespace from the whole result\u001b[0m\u001b[0;34m\u001b[0m\u001b[0;34m\u001b[0m\u001b[0m\n",
      "\u001b[0m\u001b[0;32m     64 \u001b[0;31m        \u001b[0mprocessed_text\u001b[0m \u001b[0;34m=\u001b[0m \u001b[0mprocessed_text\u001b[0m\u001b[0;34m.\u001b[0m\u001b[0mstrip\u001b[0m\u001b[0;34m(\u001b[0m\u001b[0;34m)\u001b[0m\u001b[0;34m\u001b[0m\u001b[0;34m\u001b[0m\u001b[0m\n",
      "\u001b[0m\n"
     ]
    },
    {
     "name": "stdin",
     "output_type": "stream",
     "text": [
      "ipdb>  n\n"
     ]
    },
    {
     "name": "stdout",
     "output_type": "stream",
     "text": [
      "> \u001b[0;32m/var/folders/4b/lxf1fvsj6hs_rs1t1kcpm2m0jfgnr5/T/ipykernel_81762/1729876278.py\u001b[0m(64)\u001b[0;36mnormalize_latex_math\u001b[0;34m()\u001b[0m\n",
      "\u001b[0;32m     62 \u001b[0;31m        \u001b[0mprocessed_text\u001b[0m \u001b[0;34m=\u001b[0m \u001b[0mre\u001b[0m\u001b[0;34m.\u001b[0m\u001b[0msub\u001b[0m\u001b[0;34m(\u001b[0m\u001b[0;34mr'(\\n\\s*){2,}'\u001b[0m\u001b[0;34m,\u001b[0m \u001b[0;34m'\\n'\u001b[0m\u001b[0;34m,\u001b[0m \u001b[0mprocessed_text\u001b[0m\u001b[0;34m)\u001b[0m\u001b[0;34m\u001b[0m\u001b[0;34m\u001b[0m\u001b[0m\n",
      "\u001b[0m\u001b[0;32m     63 \u001b[0;31m        \u001b[0;31m# Remove leading/trailing whitespace from the whole result\u001b[0m\u001b[0;34m\u001b[0m\u001b[0;34m\u001b[0m\u001b[0m\n",
      "\u001b[0m\u001b[0;32m---> 64 \u001b[0;31m        \u001b[0mprocessed_text\u001b[0m \u001b[0;34m=\u001b[0m \u001b[0mprocessed_text\u001b[0m\u001b[0;34m.\u001b[0m\u001b[0mstrip\u001b[0m\u001b[0;34m(\u001b[0m\u001b[0;34m)\u001b[0m\u001b[0;34m\u001b[0m\u001b[0;34m\u001b[0m\u001b[0m\n",
      "\u001b[0m\u001b[0;32m     65 \u001b[0;31m\u001b[0;34m\u001b[0m\u001b[0m\n",
      "\u001b[0m\u001b[0;32m     66 \u001b[0;31m        \u001b[0;31m# Optional: Collapse multiple spaces (might affect deliberate spacing)\u001b[0m\u001b[0;34m\u001b[0m\u001b[0;34m\u001b[0m\u001b[0m\n",
      "\u001b[0m\n"
     ]
    },
    {
     "name": "stdin",
     "output_type": "stream",
     "text": [
      "ipdb>  n\n"
     ]
    },
    {
     "name": "stdout",
     "output_type": "stream",
     "text": [
      "> \u001b[0;32m/var/folders/4b/lxf1fvsj6hs_rs1t1kcpm2m0jfgnr5/T/ipykernel_81762/1729876278.py\u001b[0m(69)\u001b[0;36mnormalize_latex_math\u001b[0;34m()\u001b[0m\n",
      "\u001b[0;32m     67 \u001b[0;31m        \u001b[0;31m# processed_text = re.sub(r'[ \\t]+', ' ', processed_text)\u001b[0m\u001b[0;34m\u001b[0m\u001b[0;34m\u001b[0m\u001b[0m\n",
      "\u001b[0m\u001b[0;32m     68 \u001b[0;31m\u001b[0;34m\u001b[0m\u001b[0m\n",
      "\u001b[0m\u001b[0;32m---> 69 \u001b[0;31m        \u001b[0;32mreturn\u001b[0m \u001b[0mprocessed_text\u001b[0m\u001b[0;34m\u001b[0m\u001b[0;34m\u001b[0m\u001b[0m\n",
      "\u001b[0m\u001b[0;32m     70 \u001b[0;31m\u001b[0;34m\u001b[0m\u001b[0m\n",
      "\u001b[0m\u001b[0;32m     71 \u001b[0;31m    \u001b[0;32mexcept\u001b[0m \u001b[0mException\u001b[0m \u001b[0;32mas\u001b[0m \u001b[0me\u001b[0m\u001b[0;34m:\u001b[0m\u001b[0;34m\u001b[0m\u001b[0;34m\u001b[0m\u001b[0m\n",
      "\u001b[0m\n"
     ]
    },
    {
     "name": "stdin",
     "output_type": "stream",
     "text": [
      "ipdb>  n\n"
     ]
    },
    {
     "name": "stdout",
     "output_type": "stream",
     "text": [
      "--Return--\n",
      "'$\\\\alph a Z$'\n",
      "> \u001b[0;32m/var/folders/4b/lxf1fvsj6hs_rs1t1kcpm2m0jfgnr5/T/ipykernel_81762/1729876278.py\u001b[0m(69)\u001b[0;36mnormalize_latex_math\u001b[0;34m()\u001b[0m\n",
      "\u001b[0;32m     67 \u001b[0;31m        \u001b[0;31m# processed_text = re.sub(r'[ \\t]+', ' ', processed_text)\u001b[0m\u001b[0;34m\u001b[0m\u001b[0;34m\u001b[0m\u001b[0m\n",
      "\u001b[0m\u001b[0;32m     68 \u001b[0;31m\u001b[0;34m\u001b[0m\u001b[0m\n",
      "\u001b[0m\u001b[0;32m---> 69 \u001b[0;31m        \u001b[0;32mreturn\u001b[0m \u001b[0mprocessed_text\u001b[0m\u001b[0;34m\u001b[0m\u001b[0;34m\u001b[0m\u001b[0m\n",
      "\u001b[0m\u001b[0;32m     70 \u001b[0;31m\u001b[0;34m\u001b[0m\u001b[0m\n",
      "\u001b[0m\u001b[0;32m     71 \u001b[0;31m    \u001b[0;32mexcept\u001b[0m \u001b[0mException\u001b[0m \u001b[0;32mas\u001b[0m \u001b[0me\u001b[0m\u001b[0;34m:\u001b[0m\u001b[0;34m\u001b[0m\u001b[0;34m\u001b[0m\u001b[0m\n",
      "\u001b[0m\n"
     ]
    },
    {
     "name": "stdin",
     "output_type": "stream",
     "text": [
      "ipdb>  n\n"
     ]
    },
    {
     "data": {
      "text/plain": [
       "'$\\\\alph a Z$'"
      ]
     },
     "execution_count": 5,
     "metadata": {},
     "output_type": "execute_result"
    }
   ],
   "source": [
    "pdb.runcall(normalize_latex_math, r\"$\\alpha Z$\")"
   ]
  },
  {
   "cell_type": "code",
   "execution_count": 6,
   "id": "d2160ac0-64cd-4c53-ad9c-560f1022cb0c",
   "metadata": {},
   "outputs": [],
   "source": [
    "def normalize_latex_math(text, debug=False): # Added debug flag, default is False\n",
    "    \"\"\"\n",
    "    Preprocesses LaTeX text with optional print debugging after each stage.\n",
    "    1. Converts LaTeX inline math \\( ... \\) to $ ... $.\n",
    "    2. Removes LaTeX comments (% to end of line), respecting \\%.\n",
    "    3. Removes preamble/end tags if \\begin{document} is found.\n",
    "    4. Adds space after opening curly braces ({).\n",
    "    5. Adds space after lowercase LaTeX commands (\\cmd) if not already present.\n",
    "    6. Adds space after specific uppercase Greek commands (\\Cmd) if not present.\n",
    "    7. Cleans up extra blank lines and trims whitespace.\n",
    "    \"\"\"\n",
    "    if debug:\n",
    "        print(\"\\n--- Entering normalize_latex_math ---\")\n",
    "        # Print initial text snippet using repr() to show special chars like \\n\n",
    "        print(f\"Input Text (snippet):\\n'''{repr(text[:200])}...'''\\n------\")\n",
    "\n",
    "    if not isinstance(text, str):\n",
    "        print(\"Warning: Input was not a string.\")\n",
    "        return text\n",
    "\n",
    "    processed_text = text\n",
    "    original_text_for_compare = text # Keep original for error return\n",
    "    try:\n",
    "        # --- Step 1: Normalize math \\(...\\) to $...$ ---\n",
    "        processed_text = re.sub(r'\\\\\\(\\s*(.*?)\\s*\\\\\\)', lambda m: f\"${m.group(1).strip()}$\", processed_text)\n",
    "        if debug: print(f\"--- After Step 1 (Math Norm): ---\\n{processed_text}\\n------\")\n",
    "\n",
    "        # --- Step 2: Remove LaTeX comment lines ---\n",
    "        processed_text = re.sub(r'(?<!\\\\)%.*$', '', processed_text, flags=re.MULTILINE)\n",
    "        if debug: print(f\"--- After Step 2 (Comment Removal): ---\\n{processed_text}\\n------\")\n",
    "\n",
    "        # --- Step 3: Remove preamble/end tags ---\n",
    "        begin_doc_marker = r'\\begin{document}'\n",
    "        begin_doc_index = processed_text.find(begin_doc_marker)\n",
    "        if begin_doc_index != -1:\n",
    "            processed_text = processed_text[begin_doc_index + len(begin_doc_marker):]\n",
    "        end_doc_marker = r'\\end{document}'\n",
    "        end_doc_index = processed_text.rfind(end_doc_marker)\n",
    "        if end_doc_index != -1 and len(processed_text) - end_doc_index < 30:\n",
    "            processed_text = processed_text[:end_doc_index]\n",
    "        if debug: print(f\"--- After Step 3 (Preamble/End Removal): ---\\n{processed_text}\\n------\")\n",
    "\n",
    "        # --- Step 4: Add space after { ---\n",
    "        processed_text = re.sub(r'\\{', r'{ ', processed_text)\n",
    "        if debug: print(f\"--- After Step 4 (Space after {{): ---\\n{processed_text}\\n------\") # Escaped { in f-string label\n",
    "\n",
    "        # --- Step 5: Add space after \\lowercasecmd ---\n",
    "        \n",
    "        processed_text = re.sub(r'(\\\\[a-z]+)(?!\\s)', r'\\1 ', processed_text)\n",
    "        if debug: print(f\"--- After Step 5 (Space after \\\\cmd): ---\\n{processed_text}\\n------\")\n",
    "\n",
    "        # --- Step 6: Add space after \\UppercaseGreek ---\n",
    "        upper_greek_cmds = ['Gamma', 'Delta', 'Theta', 'Lambda', 'Xi', 'Pi', 'Sigma', 'Upsilon', 'Phi', 'Psi', 'Omega']\n",
    "        pattern_part = '|'.join(upper_greek_cmds)\n",
    "        pattern_upper = rf'(\\\\ (?:{pattern_part}))(?!\\s)'\n",
    "        processed_text = re.sub(pattern_upper, r'\\1 ', processed_text)\n",
    "        if debug: print(f\"--- After Step 6 (Space after \\\\Cmd): ---\\n{processed_text}\\n------\")\n",
    "\n",
    "        # --- Step 7: Clean up blank lines/strip ---\n",
    "        processed_text = re.sub(r'(\\n\\s*){2,}', '\\n', processed_text)\n",
    "        processed_text = processed_text.strip()\n",
    "        if debug: print(f\"--- After Step 7 (Final Cleanup): ---\\n{processed_text}\\n------\")\n",
    "\n",
    "        return processed_text\n",
    "\n",
    "    except Exception as e:\n",
    "        error_message = f\"Error during LaTeX text preprocessing: {e}\"\n",
    "        if st: st.error(error_message) # Use conditional st\n",
    "        else: print(error_message)\n",
    "        if debug: print(\"--- ERROR occurred in normalize_latex_math ---\")\n",
    "        return original_text_for_compare # Return original text on error\n"
   ]
  },
  {
   "cell_type": "code",
   "execution_count": 7,
   "id": "d8986df0-1e48-4858-8fd1-987352aeaf96",
   "metadata": {},
   "outputs": [
    {
     "name": "stdout",
     "output_type": "stream",
     "text": [
      "\n",
      "--- Entering normalize_latex_math ---\n",
      "Input Text (snippet):\n",
      "''''$\\\\alpha Z$'...'''\n",
      "------\n",
      "--- After Step 1 (Math Norm): ---\n",
      "$\\alpha Z$\n",
      "------\n",
      "--- After Step 2 (Comment Removal): ---\n",
      "$\\alpha Z$\n",
      "------\n",
      "--- After Step 3 (Preamble/End Removal): ---\n",
      "$\\alpha Z$\n",
      "------\n",
      "--- After Step 4 (Space after {): ---\n",
      "$\\alpha Z$\n",
      "------\n",
      "--- After Step 5 (Space after \\cmd): ---\n",
      "$\\alph a Z$\n",
      "------\n",
      "--- After Step 6 (Space after \\Cmd): ---\n",
      "$\\alph a Z$\n",
      "------\n",
      "--- After Step 7 (Final Cleanup): ---\n",
      "$\\alph a Z$\n",
      "------\n"
     ]
    },
    {
     "data": {
      "text/plain": [
       "'$\\\\alph a Z$'"
      ]
     },
     "execution_count": 7,
     "metadata": {},
     "output_type": "execute_result"
    }
   ],
   "source": [
    "normalize_latex_math(r\"$\\alpha Z$\",debug=True    )"
   ]
  },
  {
   "cell_type": "code",
   "execution_count": 9,
   "id": "070009a9-71e1-4ff9-9dee-b011b4fbaa8e",
   "metadata": {},
   "outputs": [
    {
     "name": "stdout",
     "output_type": "stream",
     "text": [
      "Original: 'Some text $\\\\gamma Z$R and $\\x07lpha Z$R here.'\n",
      "Result:   'Some text $\\\\gamm a Z$R and $\\x07lpha Z$R here.'\n"
     ]
    }
   ],
   "source": [
    "import re\n",
    "\n",
    "test_string = r\"Some text $\\gamma Z$R and $\\alpha Z$R here.\"\n",
    "pattern = r'(\\\\[a-z]+)(?!\\s)'\n",
    "replacement = r'\\1 ' # The crucial part - ensure NO 'a' here\n",
    "\n",
    "result = re.sub(pattern, replacement, test_string)\n",
    "\n",
    "print(f\"Original: {repr(test_string)}\")\n",
    "print(f\"Result:   {repr(result)}\")\n",
    "\n",
    "# Expected Output should be:\n",
    "# Original: 'Some text $\\\\gamma Z$R and $\\\\alphaZ$R here.'\n",
    "# Result:   'Some text $\\\\gamma Z$R and $\\\\alpha Z$R here.'\n",
    "# (Note the space added ONLY after \\gamma, because Z followed it,\n",
    "#  and NO space added after \\alpha, because Z followed it. And definitely NO 'a')\n",
    "# CORRECTION TO EXPECTED OUTPUT: Both \\gamma and \\alpha should match the pattern because Z is not whitespace.\n",
    "# Expected Output:\n",
    "# Original: 'Some text $\\\\gamma Z$R and $\\\\alphaZ$R here.'\n",
    "# Result:   'Some text $\\\\gamma  Z$R and $\\\\alpha Z$R here.' (Space added after both)\n",
    "\n"
   ]
  },
  {
   "cell_type": "code",
   "execution_count": null,
   "id": "bf68bae9-f957-4e26-acb4-5254391be792",
   "metadata": {},
   "outputs": [],
   "source": []
  }
 ],
 "metadata": {
  "kernelspec": {
   "display_name": "Python 3 (ipykernel)",
   "language": "python",
   "name": "python3"
  },
  "language_info": {
   "codemirror_mode": {
    "name": "ipython",
    "version": 3
   },
   "file_extension": ".py",
   "mimetype": "text/x-python",
   "name": "python",
   "nbconvert_exporter": "python",
   "pygments_lexer": "ipython3",
   "version": "3.10.16"
  }
 },
 "nbformat": 4,
 "nbformat_minor": 5
}
