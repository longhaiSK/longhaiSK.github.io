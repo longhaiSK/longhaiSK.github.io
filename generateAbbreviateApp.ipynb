{
  "cells": [
    {
      "cell_type": "markdown",
      "metadata": {
        "id": "view-in-github",
        "colab_type": "text"
      },
      "source": [
        "<a href=\"https://colab.research.google.com/github/longhaiSK/longhaiSK.github.io/blob/main/generateAbbreviateApp.ipynb\" target=\"_parent\"><img src=\"https://colab.research.google.com/assets/colab-badge.svg\" alt=\"Open In Colab\"/></a>"
      ]
    },
    {
      "cell_type": "code",
      "execution_count": 24,
      "metadata": {
        "colab": {
          "base_uri": "https://localhost:8080/"
        },
        "id": "9sq70SDYYccu",
        "outputId": "9c10faa7-2bb5-4489-cbe3-1258b282474c"
      },
      "outputs": [
        {
          "output_type": "stream",
          "name": "stdout",
          "text": [
            "Requirement already satisfied: pyngrok in /usr/local/lib/python3.11/dist-packages (7.2.3)\n",
            "Requirement already satisfied: streamlit in /usr/local/lib/python3.11/dist-packages (1.43.2)\n",
            "Requirement already satisfied: PyYAML>=5.1 in /usr/local/lib/python3.11/dist-packages (from pyngrok) (6.0.2)\n",
            "Requirement already satisfied: altair<6,>=4.0 in /usr/local/lib/python3.11/dist-packages (from streamlit) (5.5.0)\n",
            "Requirement already satisfied: blinker<2,>=1.0.0 in /usr/local/lib/python3.11/dist-packages (from streamlit) (1.9.0)\n",
            "Requirement already satisfied: cachetools<6,>=4.0 in /usr/local/lib/python3.11/dist-packages (from streamlit) (5.5.2)\n",
            "Requirement already satisfied: click<9,>=7.0 in /usr/local/lib/python3.11/dist-packages (from streamlit) (8.1.8)\n",
            "Requirement already satisfied: numpy<3,>=1.23 in /usr/local/lib/python3.11/dist-packages (from streamlit) (2.0.2)\n",
            "Requirement already satisfied: packaging<25,>=20 in /usr/local/lib/python3.11/dist-packages (from streamlit) (24.2)\n",
            "Requirement already satisfied: pandas<3,>=1.4.0 in /usr/local/lib/python3.11/dist-packages (from streamlit) (2.2.2)\n",
            "Requirement already satisfied: pillow<12,>=7.1.0 in /usr/local/lib/python3.11/dist-packages (from streamlit) (11.1.0)\n",
            "Requirement already satisfied: protobuf<6,>=3.20 in /usr/local/lib/python3.11/dist-packages (from streamlit) (5.29.4)\n",
            "Requirement already satisfied: pyarrow>=7.0 in /usr/local/lib/python3.11/dist-packages (from streamlit) (18.1.0)\n",
            "Requirement already satisfied: requests<3,>=2.27 in /usr/local/lib/python3.11/dist-packages (from streamlit) (2.32.3)\n",
            "Requirement already satisfied: tenacity<10,>=8.1.0 in /usr/local/lib/python3.11/dist-packages (from streamlit) (9.0.0)\n",
            "Requirement already satisfied: toml<2,>=0.10.1 in /usr/local/lib/python3.11/dist-packages (from streamlit) (0.10.2)\n",
            "Requirement already satisfied: typing-extensions<5,>=4.4.0 in /usr/local/lib/python3.11/dist-packages (from streamlit) (4.12.2)\n",
            "Requirement already satisfied: watchdog<7,>=2.1.5 in /usr/local/lib/python3.11/dist-packages (from streamlit) (6.0.0)\n",
            "Requirement already satisfied: gitpython!=3.1.19,<4,>=3.0.7 in /usr/local/lib/python3.11/dist-packages (from streamlit) (3.1.44)\n",
            "Requirement already satisfied: pydeck<1,>=0.8.0b4 in /usr/local/lib/python3.11/dist-packages (from streamlit) (0.9.1)\n",
            "Requirement already satisfied: tornado<7,>=6.0.3 in /usr/local/lib/python3.11/dist-packages (from streamlit) (6.4.2)\n",
            "Requirement already satisfied: jinja2 in /usr/local/lib/python3.11/dist-packages (from altair<6,>=4.0->streamlit) (3.1.6)\n",
            "Requirement already satisfied: jsonschema>=3.0 in /usr/local/lib/python3.11/dist-packages (from altair<6,>=4.0->streamlit) (4.23.0)\n",
            "Requirement already satisfied: narwhals>=1.14.2 in /usr/local/lib/python3.11/dist-packages (from altair<6,>=4.0->streamlit) (1.31.0)\n",
            "Requirement already satisfied: gitdb<5,>=4.0.1 in /usr/local/lib/python3.11/dist-packages (from gitpython!=3.1.19,<4,>=3.0.7->streamlit) (4.0.12)\n",
            "Requirement already satisfied: python-dateutil>=2.8.2 in /usr/local/lib/python3.11/dist-packages (from pandas<3,>=1.4.0->streamlit) (2.8.2)\n",
            "Requirement already satisfied: pytz>=2020.1 in /usr/local/lib/python3.11/dist-packages (from pandas<3,>=1.4.0->streamlit) (2025.1)\n",
            "Requirement already satisfied: tzdata>=2022.7 in /usr/local/lib/python3.11/dist-packages (from pandas<3,>=1.4.0->streamlit) (2025.1)\n",
            "Requirement already satisfied: charset-normalizer<4,>=2 in /usr/local/lib/python3.11/dist-packages (from requests<3,>=2.27->streamlit) (3.4.1)\n",
            "Requirement already satisfied: idna<4,>=2.5 in /usr/local/lib/python3.11/dist-packages (from requests<3,>=2.27->streamlit) (3.10)\n",
            "Requirement already satisfied: urllib3<3,>=1.21.1 in /usr/local/lib/python3.11/dist-packages (from requests<3,>=2.27->streamlit) (2.3.0)\n",
            "Requirement already satisfied: certifi>=2017.4.17 in /usr/local/lib/python3.11/dist-packages (from requests<3,>=2.27->streamlit) (2025.1.31)\n",
            "Requirement already satisfied: smmap<6,>=3.0.1 in /usr/local/lib/python3.11/dist-packages (from gitdb<5,>=4.0.1->gitpython!=3.1.19,<4,>=3.0.7->streamlit) (5.0.2)\n",
            "Requirement already satisfied: MarkupSafe>=2.0 in /usr/local/lib/python3.11/dist-packages (from jinja2->altair<6,>=4.0->streamlit) (3.0.2)\n",
            "Requirement already satisfied: attrs>=22.2.0 in /usr/local/lib/python3.11/dist-packages (from jsonschema>=3.0->altair<6,>=4.0->streamlit) (25.3.0)\n",
            "Requirement already satisfied: jsonschema-specifications>=2023.03.6 in /usr/local/lib/python3.11/dist-packages (from jsonschema>=3.0->altair<6,>=4.0->streamlit) (2024.10.1)\n",
            "Requirement already satisfied: referencing>=0.28.4 in /usr/local/lib/python3.11/dist-packages (from jsonschema>=3.0->altair<6,>=4.0->streamlit) (0.36.2)\n",
            "Requirement already satisfied: rpds-py>=0.7.1 in /usr/local/lib/python3.11/dist-packages (from jsonschema>=3.0->altair<6,>=4.0->streamlit) (0.23.1)\n",
            "Requirement already satisfied: six>=1.5 in /usr/local/lib/python3.11/dist-packages (from python-dateutil>=2.8.2->pandas<3,>=1.4.0->streamlit) (1.17.0)\n",
            "Requirement already satisfied: pandas==2.2.2 in /usr/local/lib/python3.11/dist-packages (2.2.2)\n",
            "Requirement already satisfied: numpy>=1.23.2 in /usr/local/lib/python3.11/dist-packages (from pandas==2.2.2) (2.0.2)\n",
            "Requirement already satisfied: python-dateutil>=2.8.2 in /usr/local/lib/python3.11/dist-packages (from pandas==2.2.2) (2.8.2)\n",
            "Requirement already satisfied: pytz>=2020.1 in /usr/local/lib/python3.11/dist-packages (from pandas==2.2.2) (2025.1)\n",
            "Requirement already satisfied: tzdata>=2022.7 in /usr/local/lib/python3.11/dist-packages (from pandas==2.2.2) (2025.1)\n",
            "Requirement already satisfied: six>=1.5 in /usr/local/lib/python3.11/dist-packages (from python-dateutil>=2.8.2->pandas==2.2.2) (1.17.0)\n"
          ]
        }
      ],
      "source": [
        "!pip install pyngrok streamlit\n",
        "!pip install pandas==2.2.2\n"
      ]
    },
    {
      "cell_type": "code",
      "execution_count": 2,
      "metadata": {
        "colab": {
          "base_uri": "https://localhost:8080/"
        },
        "id": "jSirU2nPYcco",
        "outputId": "323b1f0e-fd5a-4f71-e3fb-5db4f1aee783"
      },
      "outputs": [
        {
          "output_type": "stream",
          "name": "stdout",
          "text": [
            "Overwriting app.py\n"
          ]
        }
      ],
      "source": [
        "%%writefile app.py\n",
        "\n",
        "# @title Click the ▶️ (play) button next to the code cell below to run the code and display the interactive widgets.\n",
        "\n",
        "import re\n",
        "import requests\n",
        "from bs4 import BeautifulSoup\n",
        "import ipywidgets as widgets\n",
        "from IPython.display import display\n",
        "from ipywidgets import HTML\n",
        "\n",
        "def get_text_from_url(url):\n",
        "    try:\n",
        "        response = requests.get(url, timeout=10)\n",
        "        response.raise_for_status()\n",
        "        soup = BeautifulSoup(response.content, 'html.parser')\n",
        "        return soup.get_text()\n",
        "    except requests.exceptions.RequestException as e:\n",
        "        return f\"Error fetching URL: {e}\"\n",
        "\n",
        "def extract_abbreviations(text):\n",
        "    pattern = re.compile(r'((?:[\\w-]+\\s+){1,10})\\((([a-z]*[A-Z]{2,})[a-z]*)\\)')\n",
        "    matches = pattern.findall(text)\n",
        "\n",
        "    abbreviation_dict = {}\n",
        "\n",
        "    for match in matches:\n",
        "        words_ahead = [word for word in re.split(r'\\s+|(?<=-)(?=[A-Za-z])', match[0].strip()) if word]\n",
        "        abbr = match[1]\n",
        "        abbr_letters = list(re.sub(r'[^A-Z]', '', abbr.upper()))\n",
        "\n",
        "        full_name_words = []\n",
        "        abbr_index = 0\n",
        "\n",
        "        for word in reversed(words_ahead):\n",
        "            if word and len(word) > 0 and abbr_index < len(abbr_letters) and len(word.replace('-', '')) > 0 and word.replace('-', '')[0].upper() == abbr_letters[len(abbr_letters) - 1 - abbr_index]:\n",
        "                full_name_words.insert(0, word)\n",
        "                abbr_index += 1\n",
        "            if abbr_index == len(abbr_letters):\n",
        "                break\n",
        "\n",
        "        if len(full_name_words) == len(abbr_letters):\n",
        "            full_name = ''.join(word if i == 0 else (' ' + word if not full_name_words[i - 1].endswith('-') else word) for i, word in enumerate(full_name_words))\n",
        "            abbreviation_dict[abbr] = full_name\n",
        "\n",
        "    return abbreviation_dict\n",
        "\n",
        "def format_abbreviations(abbreviations, format_type):\n",
        "    if format_type == \"nomenclature\":\n",
        "        latex_output = \"\\\\usepackage{nomencl}\\n\"\n",
        "        for abbr, full_name in abbreviations.items():\n",
        "            latex_output += f\"\\\\nomenclature{{{abbr}}}{{{full_name}}}\\n\"\n",
        "        return latex_output\n",
        "    elif format_type == \"tabular\":\n",
        "        latex_output = \"\\\\begin{tabular}{ll}\\n\"\n",
        "        for abbr, full_name in abbreviations.items():\n",
        "            latex_output += f\"{abbr} & {full_name} \\\\\\\\\\n\"\n",
        "        latex_output += \"\\\\end{tabular}\\n\"\n",
        "        return latex_output\n",
        "    else: # Default plain text list\n",
        "        output = \"\"\n",
        "        for abbr, full_name in abbreviations.items():\n",
        "            output += f\"{abbr}: {full_name}; \"\n",
        "        return output\n",
        "\n",
        "def process_input(input_text, format_type):\n",
        "    if input_text.startswith('http'):\n",
        "        text = get_text_from_url(input_text)\n",
        "    else:\n",
        "        text = input_text\n",
        "\n",
        "    abbreviations = extract_abbreviations(text)\n",
        "    formatted_output = format_abbreviations(abbreviations, format_type)\n",
        "\n",
        "    output_text_box.value = formatted_output\n",
        "    num_lines = formatted_output.count('\\n') + 2\n",
        "    output_text_box.layout.height = f'{min(num_lines * 20, 400)}px'\n",
        "\n",
        "def clear_output_area(b):\n",
        "    output_text_box.value = ''\n",
        "    output_text_box.layout.height = '100px'\n",
        "\n",
        "def clear_text_input(b):\n",
        "    text_box.value = ''\n",
        "\n",
        "def rerun_format(change):\n",
        "    global text_box, output_format_dropdown\n",
        "    process_input(text_box.value, change.new)\n",
        "\n",
        "text_label = HTML(value='<b>Enter text (Latex Allowed) or URL:</b>')\n",
        "text_box = widgets.Textarea(\n",
        "    value=r'Cox proportional hazard (PH) regression models \\cite{CoxD.R.1972RMaL} are widely used for analyzing time-to-event data in epidemiological and clinical research (ECR).',\n",
        "    placeholder='Enter text or URL',\n",
        "    disabled=False,\n",
        "    layout=widgets.Layout(width='100%', height='100px')\n",
        ")\n",
        "\n",
        "output_label = HTML(value='<b>List of Abbreviations</b>')\n",
        "output_format_dropdown = widgets.Dropdown(\n",
        "    options=['plain','nomenclature', 'tabular'],\n",
        "    value='plain',\n",
        "    description='Format:',\n",
        ")\n",
        "\n",
        "output_box = widgets.HBox([output_label, output_format_dropdown])\n",
        "\n",
        "output_text_box = widgets.Textarea(\n",
        "    value='',\n",
        "    placeholder='List of Generated Abbreviations',\n",
        "    disabled=False,\n",
        "    layout=widgets.Layout(width='100%', height='100px')\n",
        ")\n",
        "\n",
        "submit_button = widgets.Button(\n",
        "    description='Generate Abbreviations',\n",
        "    disabled=False,\n",
        "    button_style='primary',\n",
        "    tooltip='Click to generate abbreviations',\n",
        "    icon='magic'\n",
        ")\n",
        "\n",
        "clear_output_button = widgets.Button(\n",
        "    description='Clear Output',\n",
        "    disabled=False,\n",
        "    button_style='',\n",
        "    tooltip='Click to clear output',\n",
        "    icon='times'\n",
        ")\n",
        "\n",
        "clear_text_button = widgets.Button(\n",
        "    description='Clear Input',\n",
        "    disabled=False,\n",
        "    button_style='',\n",
        "    tooltip='Click to clear input',\n",
        "    icon='times'\n",
        ")\n",
        "\n",
        "submit_button.on_click(lambda b: process_input(text_box.value, output_format_dropdown.value))\n",
        "clear_output_button.on_click(clear_output_area)\n",
        "clear_text_button.on_click(clear_text_input)\n",
        "\n",
        "output_format_dropdown.observe(rerun_format, names='value')\n",
        "\n",
        "input_box_with_clear = widgets.VBox([text_label, widgets.HBox([text_box, clear_text_button])])\n",
        "output_box_with_clear = widgets.VBox([output_box, widgets.HBox([output_text_box, clear_output_button])])\n",
        "\n",
        "display(input_box_with_clear, submit_button, output_box_with_clear)\n"
      ]
    },
    {
      "cell_type": "code",
      "source": [
        "\n",
        "!streamlit run app.py &>/dev/null&\n",
        "from pyngrok import ngrok\n",
        "ngrok.set_auth_token(\"2uopU5UMHXuln4HS0tIb4IYYc1l_3zNn3r43eRCp3Rhkn73ex\")\n",
        "public_url = ngrok.connect(8501)#, bind_tls=True)  # Specify the port directly and bind to TLS\n",
        "print (public_url)"
      ],
      "metadata": {
        "colab": {
          "base_uri": "https://localhost:8080/"
        },
        "id": "Vei_lI5Jet3R",
        "outputId": "96d807c4-a46e-48fc-b6c9-ebc7955cd433"
      },
      "execution_count": 3,
      "outputs": [
        {
          "output_type": "stream",
          "name": "stdout",
          "text": [
            "NgrokTunnel: \"https://cdb0-35-237-78-234.ngrok-free.app\" -> \"http://localhost:8501\"\n"
          ]
        }
      ]
    },
    {
      "cell_type": "code",
      "source": [],
      "metadata": {
        "id": "6Z8tDcewj324"
      },
      "execution_count": null,
      "outputs": []
    }
  ],
  "metadata": {
    "kernelspec": {
      "display_name": "Python 3",
      "language": "python",
      "name": "python3"
    },
    "language_info": {
      "codemirror_mode": {
        "name": "ipython",
        "version": 3
      },
      "file_extension": ".py",
      "mimetype": "text/x-python",
      "name": "python",
      "nbconvert_exporter": "python",
      "pygments_lexer": "ipython3",
      "version": "3.7.3"
    },
    "colab": {
      "provenance": [],
      "include_colab_link": true
    }
  },
  "nbformat": 4,
  "nbformat_minor": 0
}