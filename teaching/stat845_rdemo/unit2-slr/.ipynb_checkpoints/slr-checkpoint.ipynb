{
 "cells": [
  {
   "cell_type": "raw",
   "id": "424fd23b",
   "metadata": {},
   "source": [
    "---\n",
    "title: \"Simple Linear Regression\"\n",
    "author: \"Longhai Li\"\n",
    "date: \"September 2025\"\n",
    "output: \n",
    "    html_document:\n",
    "        toc: true\n",
    "        toc_float: true\n",
    "        toc_depth: 3\n",
    "        number_sections: true\n",
    "        highlight: tango\n",
    "        fig_width: 10\n",
    "        fig_height: 8\n",
    "        code_folding: show\n",
    "editor_options: \n",
    "  chunk_output_type: console\n",
    "---"
   ]
  },
  {
   "cell_type": "code",
   "execution_count": 1,
   "id": "5c29e4bb",
   "metadata": {
    "echo": true,
    "name": "setup"
   },
   "outputs": [
    {
     "name": "stderr",
     "output_type": "stream",
     "text": [
      "Loading required package: knitr\n",
      "\n"
     ]
    }
   ],
   "source": [
    "require(\"knitr\")\n",
    "\n",
    "knitr::opts_chunk$set(\n",
    "    comment = \"#\",\n",
    "    fig.width=8, \n",
    "    fig.height=6, \n",
    "    cache = TRUE\n",
    ")"
   ]
  },
  {
   "cell_type": "code",
   "execution_count": null,
   "id": "64c7c4cc",
   "metadata": {},
   "outputs": [],
   "source": [
    "#install.packages (\"animation\")"
   ]
  },
  {
   "cell_type": "code",
   "execution_count": null,
   "id": "f099adb2",
   "metadata": {},
   "outputs": [],
   "source": [
    "#install.packages (\"animation\")"
   ]
  },
  {
   "cell_type": "code",
   "execution_count": null,
   "id": "d48695aa",
   "metadata": {},
   "outputs": [],
   "source": [
    "#install.packages (\"latex2exp\")\n"
   ]
  },
  {
   "cell_type": "code",
   "execution_count": null,
   "id": "3585ee97",
   "metadata": {
    "tags": [
     "remove_cell"
    ]
   },
   "outputs": [],
   "source": [
    "\n",
    "require (\"latex2exp\")\n",
    "require (\"animation\")"
   ]
  },
  {
   "cell_type": "markdown",
   "id": "e08f322d",
   "metadata": {},
   "source": [
    "# Example 1: Vehicle Insurance Premium\n",
    "\n",
    "## Input data"
   ]
  },
  {
   "cell_type": "code",
   "execution_count": null,
   "id": "402f20ae",
   "metadata": {},
   "outputs": [],
   "source": [
    "issu <- data.frame (\n",
    "    driving = c(5, 2, 12, 9, 15, 6, 25, 16),\n",
    "    premium = c(64, 87, 50, 71, 44, 56, 42, 60)\n",
    ")\n",
    "\n",
    "y <- issu$premium\n",
    "x <- issu$driving\n",
    "xbar <- mean(x)\n",
    "ybar <- mean(y)\n",
    "n <- length(y)\n",
    "plot(x,y, xlab = \"Driving\", ylab = \"Premium\")"
   ]
  },
  {
   "cell_type": "markdown",
   "id": "2371146e",
   "metadata": {},
   "source": [
    "## Estimating regression coefficients"
   ]
  },
  {
   "cell_type": "code",
   "execution_count": null,
   "id": "5db834a5",
   "metadata": {},
   "outputs": [],
   "source": [
    "fit.issu <- lm(y~x)\n",
    "plot(x,y)\n",
    "abline (fit.issu)"
   ]
  },
  {
   "cell_type": "markdown",
   "id": "0bdca111",
   "metadata": {},
   "source": [
    "## Sum Squares of Residuals"
   ]
  },
  {
   "cell_type": "code",
   "execution_count": null,
   "id": "e16ca9e1",
   "metadata": {},
   "outputs": [],
   "source": [
    "beta0 <- fit.issu$coefficients[1]\n",
    "beta1 <- fit.issu$coefficients[2]\n",
    "fitted1 <- beta0+beta1*x\n",
    "fitted0 <- rep(ybar, n)\n",
    "residual1 <- y - fitted1\n",
    "residual0 <- y - fitted0\n",
    "\n",
    "data.frame (y, fitted0, residual0, fitted1, residual1, diff.residual=fitted1-fitted0)"
   ]
  },
  {
   "cell_type": "markdown",
   "id": "82aaadfb",
   "metadata": {},
   "source": [
    "Visualize the fitted line, fitted values, and residuals"
   ]
  },
  {
   "cell_type": "code",
   "execution_count": null,
   "id": "ce57f1b4",
   "metadata": {
    "fig.height": 5,
    "tags": [
     "remove_input"
    ]
   },
   "outputs": [],
   "source": [
    "par (mfrow = c(1,3))\n",
    "plot (premium ~ driving, data = issu, ylim = range(y, fitted1, fitted0))\n",
    "abline (h=mean(y))\n",
    "points(x, fitted0, pch = 4,col=4)\n",
    "for (i in 1: length(y)){\n",
    "    arrows( x[i],fitted0[i],x[i], y[i], length=0.1, col = 4)\n",
    "}\n",
    "title(main= TeX(\"Residuals of Fitting Model 0: $y_i-\\\\bar{y}$\"))\n",
    "\n",
    "\n",
    "plot (premium ~ driving, data = issu, ylim = range(y, fitted1, fitted0))\n",
    "abline (h=mean(y))\n",
    "abline(a=beta0, b=beta1)\n",
    "points(x, fitted1, pch = 3,col=3)\n",
    "for (i in 1: length(y)){\n",
    "    arrows( x[i],fitted1[i],x[i], y[i], length=0.1, col = 3)\n",
    "    \n",
    "}\n",
    "title(main= TeX(\"Residuals of Fitting Model 1: $y_i-\\\\hat{y}_i$\"))\n",
    "\n",
    "\n",
    "plot (premium ~ driving, data = issu, ylim = range(y, fitted1, fitted0))\n",
    "abline (h=mean(y))\n",
    "abline(a=beta0, b=beta1)\n",
    "points(x, fitted0, pch = 4,col=4)\n",
    "points(x, fitted1, pch = 3,col=3)\n",
    "\n",
    "for (i in 1: length(y)){\n",
    "    arrows( x[i],fitted0[i],x[i], fitted1[i], length=0.1, col = 2)\n",
    "    \n",
    "}\n",
    "title(main= TeX(\"Differences in Residuals: $\\\\hat{y}_i-\\\\bar{y}$\"))\n"
   ]
  },
  {
   "cell_type": "markdown",
   "id": "f3bb122f",
   "metadata": {},
   "source": [
    "**Definitions of SSR, SSE, SST**:"
   ]
  },
  {
   "cell_type": "code",
   "execution_count": null,
   "id": "55073927",
   "metadata": {},
   "outputs": [],
   "source": [
    "SST <- sum((y-fitted0)^2); SST\n",
    "SSE <- sum ((y-fitted1)^2);SSE\n",
    "SSR <- SST-SSE;SSR\n"
   ]
  },
  {
   "cell_type": "markdown",
   "id": "6b811793",
   "metadata": {},
   "source": [
    "SSR can be computed directly with"
   ]
  },
  {
   "cell_type": "code",
   "execution_count": null,
   "id": "e7da0488",
   "metadata": {},
   "outputs": [],
   "source": [
    "sum((fitted1-fitted0)^2)"
   ]
  },
  {
   "cell_type": "markdown",
   "id": "537c41b1",
   "metadata": {},
   "source": [
    "**Plot of Residual Sum Squares**\n"
   ]
  },
  {
   "cell_type": "code",
   "execution_count": null,
   "id": "12f04cd0",
   "metadata": {
    "lines_to_next_cell": 0
   },
   "outputs": [],
   "source": [
    "# --- Assumed Setup Code (from your previous file) ---\n",
    "# This data and model fit are needed for the calculations\n",
    "# --- Assumed Setup Code (from your previous file) ---\n",
    "# This data and model fit are needed for the calculations\n",
    "issu <- data.frame (\n",
    "    driving = c(5, 2, 12, 9, 15, 6, 25, 16),\n",
    "    premium = c(64, 87, 50, 71, 44, 56, 42, 60)\n",
    ")\n",
    "y <- issu$premium\n",
    "x <- issu$driving\n",
    "n <- length(y)\n",
    "fit.issu <- lm(y~x)\n",
    "# --- End of Setup ---\n",
    "\n",
    "\n",
    "# --- Calculations for ANOVA components ---\n",
    "SST <- sum((y - mean(y))^2)\n",
    "SSE <- sum(resid(fit.issu)^2)\n",
    "SSR <- SST - SSE\n",
    "df_SSR <- 1 # For simple linear regression (change from 1 to 2 parameters)\n",
    "df_SSE <- n - 2\n",
    "\n",
    "\n",
    "# --- Create the Plot ---\n",
    "# Set plot margins to make extra space at the bottom for the df segments\n",
    "par(mar = c(6, 4, 4, 2) + 0.1)\n",
    "\n",
    "# Create the main plot, expanding x-axis to 14\n",
    "plot(c(1, 2, n), c(SST, SSE, 0), type=\"b\", pch = 19,\n",
    "     xlab = \"Number of Parameters in Model\",\n",
    "     ylab = \"Residual Sum of Squares (RSS)\",\n",
    "     main = \"Visualizing ANOVA on the RSS Plot\",\n",
    "     xlim = c(0, 14), # Expanded x-axis limit\n",
    "     ylim = c(-400, SST * 1.1), # Extend y-axis below 0\n",
    "     xaxt = \"n\" # Turn off default x-axis to draw a custom one\n",
    "     )\n",
    "axis(1, at = c(1, 2, n), labels = c(\"1 (Intercept)\", \"2 (+ Slope)\", paste(n, \"(Saturated)\")))\n",
    "abline(h=seq(0, 2000, by=100), lty=3, col=\"grey\")\n",
    "\n",
    "\n",
    "# --- Allow drawing outside the main plot area ---\n",
    "par(xpd=TRUE)\n",
    "\n",
    "# --- Draw Repositioned Segments ---\n",
    "# 1. Show SSE (blue) - at x=9\n",
    "arrows(x0 = 9, y0 = 0, x1 = 9, y1 = SSE, col = \"blue\", code = 3, angle = 90, length = 0.1, lwd = 2)\n",
    "text(x = 9, y = SSE / 2, \"SSE\", col = \"blue\", pos = 4, font = 2, cex = 1.2)\n",
    "\n",
    "# 2. Show SSR (red) - at x=9\n",
    "arrows(x0 = 9, y0 = SSE, x1 = 9, y1 = SST, col = \"red\", code = 3, angle = 90, length = 0.1, lwd = 2)\n",
    "text(x = 9, y = (SST + SSE) / 2, \"SSR\", col = \"red\", pos = 4, font = 2, cex = 1.2)\n",
    "\n",
    "# 3. Show df_SSE (blue) - below y=0\n",
    "arrows(x0 = 2, y0 = -200, x1 = n, y1 = -200, col = \"blue\", code = 3, angle = 90, length = 0.1, lwd = 2)\n",
    "text(x = (2 + n) / 2, y = -250, paste(\"df_SSE =\", df_SSE), col = \"blue\", font = 2)\n",
    "\n",
    "# 4. Show df_SSR (red) - below y=0\n",
    "arrows(x0 = 1, y0 = -200, x1 = 2, y1 = -200, col = \"red\", code = 3, angle = 90, length = 0.1, lwd = 2)\n",
    "text(x = 1.5, y = -250, paste(\"df_SSR =\", df_SSR), col = \"red\", font = 2)\n",
    "\n",
    "\n",
    "# --- NEW CODE: Add ANOVA F and p-value to top-right corner ---\n",
    "# 1. Calculate the F-statistic and p-value\n",
    "f_value <- (SSR/df_SSR) / (SSE/df_SSE)\n",
    "p_value <- pf(f_value, df1=df_SSR, df2=df_SSE, lower.tail = FALSE)\n",
    "\n",
    "# 2. Format the text strings for display\n",
    "f_stat_text <- sprintf(\"F-statistic: %.2f\", f_value)\n",
    "p_val_text  <- sprintf(\"p-value: %.3f\", p_value)\n",
    "\n",
    "# 3. Use legend() to create an info box on the plot\n",
    "legend(\n",
    "  \"topright\", # Position of the box\n",
    "  legend = c(f_stat_text, p_val_text),\n",
    "  title = \"ANOVA Results\",\n",
    "  bty = \"o\",  # Draw a box around the legend\n",
    "  cex = 0.9   # Adjust character size\n",
    ")\n",
    "\n",
    "# Reset clipping to default for any subsequent plots\n",
    "par(xpd=FALSE)"
   ]
  },
  {
   "cell_type": "markdown",
   "id": "8e03135f",
   "metadata": {},
   "source": [
    "\n"
   ]
  },
  {
   "cell_type": "markdown",
   "id": "8647c703",
   "metadata": {},
   "source": [
    "**Coefficient of Determination: $R^2$**"
   ]
  },
  {
   "cell_type": "code",
   "execution_count": null,
   "id": "7d480d33",
   "metadata": {},
   "outputs": [],
   "source": [
    "R2 <- SSR/SST; R2"
   ]
  },
  {
   "cell_type": "markdown",
   "id": "5755ceab",
   "metadata": {},
   "source": [
    "**Mean Sum Squares and F statististic**"
   ]
  },
  {
   "cell_type": "code",
   "execution_count": null,
   "id": "e0962767",
   "metadata": {},
   "outputs": [],
   "source": [
    "f <- (SSR/1)/(SSE/(n-2)); f"
   ]
  },
  {
   "cell_type": "markdown",
   "id": "f684348e",
   "metadata": {},
   "source": [
    "p-value to assess whether the relationship exists (statistical significance measure)"
   ]
  },
  {
   "cell_type": "code",
   "execution_count": null,
   "id": "0dab208f",
   "metadata": {},
   "outputs": [],
   "source": [
    "pvf <- pf(f, df1=1, df2=n-2, lower.tail = FALSE); pvf"
   ]
  },
  {
   "cell_type": "markdown",
   "id": "bad783ac",
   "metadata": {},
   "source": [
    "**ANOVA table**"
   ]
  },
  {
   "cell_type": "code",
   "execution_count": null,
   "id": "04fc58c8",
   "metadata": {},
   "outputs": [],
   "source": [
    "Ftable <- data.frame(df = c(1,n-2), SS=c(SSR,SSE), \n",
    "                     MSS = c(SSR/1, SSE/(n-2)), Fstat=c(f,NA),\n",
    "                     p.value = c(pvf, NA),\n",
    "                     R2 = c(SSR, SSE)/SST)\n",
    "Ftable"
   ]
  },
  {
   "cell_type": "markdown",
   "id": "b62ec144",
   "metadata": {
    "lines_to_next_cell": 0
   },
   "source": [
    "## A single function to produce ANOVA table"
   ]
  },
  {
   "cell_type": "code",
   "execution_count": null,
   "id": "74e63d50",
   "metadata": {},
   "outputs": [],
   "source": [
    "fit.issu <- lm(y~x)\n",
    "anova(fit.issu)"
   ]
  },
  {
   "cell_type": "markdown",
   "id": "b11fe626",
   "metadata": {},
   "source": [
    "## Animation for Understanding the Sampling Distributions of SS and F\n",
    "\n",
    "### When the slope is 0 ($H_0$ is true)"
   ]
  },
  {
   "cell_type": "code",
   "execution_count": null,
   "id": "0f8c67aa",
   "metadata": {
    "cache": false,
    "class.source": "fold-hide",
    "fig.height": 4,
    "fig.show": "animate"
   },
   "outputs": [],
   "source": [
    "# Get parameters from the original fit to use in the simulation\n",
    "# Get parameters from the original fit to use in the simulation\n",
    "original_fit <- lm(y~x)\n",
    "intercept_H0 <- coef(original_fit)[1] # beta_0\n",
    "model_sigma <- sigma(original_fit)   # sigma\n",
    "\n",
    "# Loop to generate frames for an animation\n",
    "for (n.sim in 1:50) {\n",
    "  # Simulate a dataset where H0 is true (slope = 0)\n",
    "  sim.y <- intercept_H0 + rnorm(n, 0, model_sigma)\n",
    "  \n",
    "  # --- Plotting Section ---\n",
    "  # Set up a 1x2 plot layout\n",
    "  par(mfrow=c(1,2))\n",
    "  \n",
    "  # --- Left Plot: Scatterplot ---\n",
    "  fit.sim.y <- lm(sim.y~x)\n",
    "  plot(sim.y~x, ylim=c(0,100), main=\"Data Simulated Under H0 (Slope=0)\") \n",
    "  abline(fit.sim.y,col=\"red\", lwd=2)   # Fitted line for simulated data\n",
    "  abline(h=mean(sim.y),col=\"blue\") # Null model line\n",
    "  \n",
    "  # --- Right Plot: RSS Plot with ANOVA Info ---\n",
    "  anova.fit.sim.y <- anova(fit.sim.y)\n",
    "  ss.sim.y <- anova.fit.sim.y$`Sum Sq`\n",
    "  rss.sim.y <- rev(cumsum(c(0, rev(ss.sim.y))))\n",
    "  num.par <- cumsum(c(1,anova.fit.sim.y$Df))\n",
    "  plot(rss.sim.y~num.par,xlab=\"Number of Parameters\", ylab = \"Residual Sum Squares\", type =\"b\")\n",
    "  abline(v=1:25, h=(0:50)*100,lty=3,col=\"grey\")\n",
    "  \n",
    "  # --- NEW CODE: Add ANOVA table info to the right plot ---\n",
    "  # 1. Extract the F-statistic and p-value\n",
    "  f_value <- anova.fit.sim.y$\"F value\"[1]\n",
    "  p_value <- anova.fit.sim.y$\"Pr(>F)\"[1]\n",
    "  \n",
    "  # 2. Format the text strings for display\n",
    "  f_stat_text <- sprintf(\"F-statistic: %.2f\", f_value)\n",
    "  p_val_text  <- sprintf(\"p-value: %.3f\", p_value)\n",
    "  \n",
    "  # 3. Use legend() to create an info box on the plot\n",
    "  legend(\n",
    "    \"topright\", # Position of the box\n",
    "    legend = c(f_stat_text, p_val_text),\n",
    "    title = \"ANOVA Results\",\n",
    "    bty = \"o\", # Type of box (\"o\" for a full box, \"n\" for no box)\n",
    "    cex = 0.9  # Character size\n",
    "  )\n",
    "}"
   ]
  },
  {
   "cell_type": "markdown",
   "id": "5a758d67",
   "metadata": {},
   "source": [
    "### When the slope is non-zero ($H_1$ is true)"
   ]
  },
  {
   "cell_type": "code",
   "execution_count": null,
   "id": "456fc9e4",
   "metadata": {
    "cache": false,
    "class.source": "fold-hide",
    "fig.height": 4,
    "fig.show": "animate",
    "lines_to_next_cell": 2
   },
   "outputs": [],
   "source": [
    "# --- Assumed Setup Code (from your previous file) ---\n",
    "\n",
    "# Get parameters from the original fit to use in the simulation\n",
    "original_fit <- lm(y~x)\n",
    "intercept_HA <- coef(original_fit)[1] # beta_0\n",
    "model_sigma <- sigma(original_fit)   # sigma\n",
    "slope_HA <- -2                       # A specified non-zero slope for the alternative hypothesis\n",
    "\n",
    "# Loop to generate frames for an animation\n",
    "for (n.sim in 1:50) {\n",
    "  # Simulate a dataset where H0 is false (true slope = -2)\n",
    "  mean_y <- intercept_HA + slope_HA * x\n",
    "  sim.y <- mean_y + rnorm(n, 0, model_sigma)\n",
    "\n",
    "  # --- Plotting Section ---\n",
    "  # Set up a 1x2 plot layout\n",
    "  par(mfrow=c(1,2))\n",
    "\n",
    "  # --- Left Plot: Scatterplot ---\n",
    "  fit.sim.y <- lm(sim.y~x)\n",
    "  plot(sim.y~x, ylim=c(0,80), main=\"Data Simulated Under HA (Slope=-2)\") \n",
    "  abline(fit.sim.y,col=\"red\", lwd=2)   # Fitted line for simulated data\n",
    "  abline(h=mean(sim.y),col=\"blue\") # Null model line\n",
    "\n",
    "  # --- Right Plot: RSS Plot with ANOVA Info ---\n",
    "  anova.fit.sim.y <- anova(fit.sim.y)\n",
    "  ss.sim.y <- anova.fit.sim.y$`Sum Sq`\n",
    "  rss.sim.y <- rev(cumsum(c(0, rev(ss.sim.y))))\n",
    "  num.par <- cumsum(c(1,anova.fit.sim.y$Df))\n",
    "  plot(rss.sim.y~num.par,xlab=\"Number of Parameters\", ylab = \"Residual Sum Squares\", type =\"b\")\n",
    "  abline(v=1:25, h=(0:50)*100,lty=3,col=\"grey\")\n",
    "  \n",
    "  # --- NEW CODE: Add ANOVA table info to the right plot ---\n",
    "  # 1. Extract the F-statistic and p-value\n",
    "  f_value <- anova.fit.sim.y$\"F value\"[1]\n",
    "  p_value <- anova.fit.sim.y$\"Pr(>F)\"[1]\n",
    "  \n",
    "  # 2. Format the text strings for display\n",
    "  f_stat_text <- sprintf(\"F-statistic: %.2f\", f_value)\n",
    "  # Use scientific notation for potentially very small p-values\n",
    "  p_val_text  <- sprintf(\"p-value: %.3e\", p_value) \n",
    "  \n",
    "  # 3. Use legend() to create an info box on the plot\n",
    "  legend(\n",
    "    \"topright\", # Position of the box\n",
    "    legend = c(f_stat_text, p_val_text),\n",
    "    title = \"ANOVA Results\",\n",
    "    bty = \"o\", # Type of box\n",
    "    cex = 0.9  # Character size\n",
    "  )\n",
    "}"
   ]
  },
  {
   "cell_type": "markdown",
   "id": "676d7290",
   "metadata": {},
   "source": [
    "# Example 2: Oxygen Purity Data\n",
    "\n",
    "This section performs a simple linear regression analysis on oxygen purity data. We will model the purity of oxygen (`y`) as a function of the hydrocarbon level (`x`).\n",
    "\n",
    "***\n",
    "\n",
    "## 1. Data Input\n",
    "\n",
    "First, we define the `x` (Hydrocarbon Level) and `y` (Purity) variables and combine them into a data frame called `purity.data`."
   ]
  },
  {
   "cell_type": "code",
   "execution_count": null,
   "id": "77f6d979",
   "metadata": {
    "name": "data-input"
   },
   "outputs": [],
   "source": [
    "# Define the data vectors\n",
    "x <- c(0.99, 1.02, 1.15, 1.29, 1.46, 1.36, 0.87, 1.23, 1.55, 1.40, 1.19, \n",
    "       1.15, 0.98, 1.01, 1.11, 1.20, 1.26, 1.32, 1.43, 0.95)\n",
    "y <- c(90.01, 89.05, 91.43, 93.74, 96.73, 94.45, 87.59, 91.77, 99.42, 93.65, \n",
    "       93.54, 92.52, 90.56, 89.54, 89.85, 90.39, 93.25, 93.41, 94.98, 87.33)\n",
    "\n",
    "# Get the number of observations\n",
    "n <- length(x)\n",
    "n\n",
    "\n",
    "# Create a data frame\n",
    "purity.data <- data.frame(x = x, y = y)\n",
    "head(purity.data)"
   ]
  },
  {
   "cell_type": "markdown",
   "id": "6e70ec7c",
   "metadata": {},
   "source": [
    "***\n",
    "\n",
    "## 2. Model Fitting and Summary\n",
    "\n",
    "We fit a linear model using the `lm()` function and then print the detailed summary of the model, which includes coefficients, R-squared, and other statistics."
   ]
  },
  {
   "cell_type": "code",
   "execution_count": null,
   "id": "230d2c18",
   "metadata": {
    "name": "fit-model"
   },
   "outputs": [],
   "source": [
    "# Fit the model using the lm() function\n",
    "fit <- lm(y ~ x, data = purity.data)\n",
    "\n",
    "# Print the summary of the fit\n",
    "summary(fit)"
   ]
  },
  {
   "cell_type": "markdown",
   "id": "01263ddd",
   "metadata": {},
   "source": [
    "***\n",
    "\n",
    "## 3. Visualization and Diagnostics\n",
    "\n",
    "### Scatter Plot with Fitted Line\n",
    "\n",
    "Here we visualize the relationship between hydrocarbon level and purity with the fitted regression line overlaid."
   ]
  },
  {
   "cell_type": "code",
   "execution_count": null,
   "id": "e2dd5b13",
   "metadata": {
    "name": "plot-fit"
   },
   "outputs": [],
   "source": [
    "# Create scatter diagram and add the fitted line\n",
    "plot(purity.data$x, purity.data$y, \n",
    "     xlab = \"Hydrocarbon level (x)\", ylab = \"Purity (y)\",\n",
    "     main = \"Oxygen Purity vs. Hydrocarbon Level\")\n",
    "abline(fit, col = \"red\", lwd = 2)"
   ]
  },
  {
   "cell_type": "markdown",
   "id": "2b9a5ed1",
   "metadata": {},
   "source": [
    "### Confidence Intervals and ANOVA\n",
    "\n",
    "We can compute the 95% confidence intervals for the regression coefficients and generate the ANOVA table for the model."
   ]
  },
  {
   "cell_type": "code",
   "execution_count": null,
   "id": "5462583a",
   "metadata": {
    "name": "anova-ci"
   },
   "outputs": [],
   "source": [
    "# Confidence intervals of the regression coefficients\n",
    "confint(fit, level = 0.95)\n",
    "\n",
    "# ANOVA table\n",
    "anova(fit)"
   ]
  },
  {
   "cell_type": "markdown",
   "id": "c932ad1a",
   "metadata": {},
   "source": [
    "***\n",
    "\n",
    "## 4. Mean Response and Prediction Intervals\n",
    "\n",
    "We will now calculate and visualize the confidence bands for the mean response and the prediction bands for new observations.\n",
    "\n",
    "### Generating Bands\n",
    "\n",
    "First, we create a sequence of `x` values to make predictions. Then, we use the `predict()` function to calculate the confidence and prediction intervals."
   ]
  },
  {
   "cell_type": "code",
   "execution_count": null,
   "id": "7f7093c1",
   "metadata": {
    "name": "calculate-bands"
   },
   "outputs": [],
   "source": [
    "# Create a new data frame with values of x for which we want to predict/estimate\n",
    "x0 <- seq(min(purity.data$x), max(purity.data$x), length = 50)\n",
    "newdata <- data.frame(x = x0)\n",
    "\n",
    "# Confidence interval for the mean response\n",
    "est.mean <- predict(fit, newdata = newdata, interval = \"confidence\", level = 0.95)\n",
    "\n",
    "# Prediction interval for a new observation\n",
    "pred.new <- predict(fit, newdata = newdata, interval = \"prediction\", level = 0.95)"
   ]
  },
  {
   "cell_type": "markdown",
   "id": "c0a4941b",
   "metadata": {},
   "source": [
    "### Plotting Bands\n",
    "\n",
    "This plot shows the fitted regression line along with the 95% confidence bands (blue dashed lines) and 95% prediction bands (red dotted lines)."
   ]
  },
  {
   "cell_type": "code",
   "execution_count": null,
   "id": "f2011359",
   "metadata": {
    "name": "plot-bands"
   },
   "outputs": [],
   "source": [
    "# Plot the data and the fitted line\n",
    "plot(purity.data$x, purity.data$y,\n",
    "     xlab = \"Hydrocarbon level (x)\", ylab = \"Purity (y)\",\n",
    "     main = \"Regression Line with Confidence and Prediction Bands\")\n",
    "abline(fit)\n",
    "\n",
    "# Add the confidence and prediction bands\n",
    "matlines(x0, est.mean[, 2:3], col = \"blue\", lty = 2, lwd = 2)\n",
    "matlines(x0, pred.new[, 2:3], col = \"red\", lty = 3, lwd = 2)\n",
    "\n",
    "# Add a legend\n",
    "legend(\"topleft\", c(\"Confidence Bands\", \"Prediction Bands\"),\n",
    "       col = c(\"blue\", \"red\"), lty = 2:3, bty = \"n\")"
   ]
  },
  {
   "cell_type": "markdown",
   "id": "bebed340",
   "metadata": {},
   "source": [
    "***\n",
    "\n",
    "## 5. Residual Analysis\n",
    "\n",
    "To check the model's assumptions, we analyze the residuals. We extract the standardized residuals and create a set of diagnostic plots."
   ]
  },
  {
   "cell_type": "code",
   "execution_count": null,
   "id": "2e32a7e9",
   "metadata": {
    "name": "residual-analysis"
   },
   "outputs": [],
   "source": [
    "# Extract fitted values and residuals\n",
    "pred <- fitted.values(fit)\n",
    "e <- resid(fit)\n",
    "\n",
    "# Compute standardized residuals\n",
    "d <- e / summary(fit)$sigma\n",
    "\n",
    "# Create a 2x2 layout for plots\n",
    "par(mfrow = c(2, 2))\n",
    "\n",
    "# 1. Scatter plot with regression line\n",
    "plot(purity.data$x, purity.data$y, xlab = \"x\", ylab = \"y\")\n",
    "abline(fit)\n",
    "\n",
    "# 2. Normal Q-Q plot of standardized residuals\n",
    "qqnorm(d, main = \"Normal Q-Q Plot\")\n",
    "qqline(d)\n",
    "\n",
    "# 3. Standardized residuals vs. Predicted values\n",
    "plot(pred, d, xlab = \"Predicted values\", ylab = \"Standardized residuals\",\n",
    "     main = \"Residuals vs. Fits\")\n",
    "abline(h = 0, lty = 2)\n",
    "\n",
    "# 4. Standardized residuals vs. Observation order\n",
    "plot(1:n, d, xlab = \"Observation Order\", ylab = \"Standardized residuals\",\n",
    "     main = \"Residuals vs. Order\")\n",
    "abline(h = 0, lty = 2)"
   ]
  },
  {
   "cell_type": "code",
   "execution_count": null,
   "id": "1faf7cfe",
   "metadata": {
    "name": "reset-par",
    "tags": [
     "remove_input"
    ]
   },
   "outputs": [],
   "source": [
    "# Reset plotting layout\n",
    "par(mfrow = c(1, 1))"
   ]
  },
  {
   "cell_type": "markdown",
   "id": "456f8fda",
   "metadata": {},
   "source": [
    "---\n",
    "\n",
    "# Correlation Analysis\n",
    "\n",
    "This section performs a correlation analysis between the strength and length of a certain material.\n",
    "\n",
    "## 1. Data and Visualization\n",
    "\n",
    "We define the `strength` and `length` data and create a scatter plot to visualize their relationship."
   ]
  },
  {
   "cell_type": "code",
   "execution_count": null,
   "id": "a45b090a",
   "metadata": {
    "name": "correlation-data"
   },
   "outputs": [],
   "source": [
    "# Define the data vectors\n",
    "strength <- c(9.95, 24.45, 31.75, 35.00, 25.02, 16.86, 14.38, 9.60, 24.35,\n",
    "              27.50, 17.08, 37.00, 41.95, 11.66, 21.65, 17.89, 69.00, 10.30, \n",
    "              34.93, 46.59, 44.88, 54.12, 56.63, 22.13, 21.15)\n",
    "length <- c(2, 8, 11, 10, 8, 4, 2, 2, 9, 8, 4, 11, 12, 2, 4, 4, 20, 1, 10,\n",
    "            15, 15, 16, 17, 6, 5)\n",
    "\n",
    "# Plot the relationship\n",
    "plot(length, strength, xlab = \"Length\", ylab = \"Strength\",\n",
    "     main = \"Strength vs. Length\")"
   ]
  },
  {
   "cell_type": "markdown",
   "id": "205073c3",
   "metadata": {},
   "source": [
    "## 2. Correlation Test\n",
    "\n",
    "We calculate the Pearson correlation coefficient and perform a formal hypothesis test for the correlation."
   ]
  },
  {
   "cell_type": "code",
   "execution_count": null,
   "id": "863c7da5",
   "metadata": {
    "lines_to_next_cell": 0,
    "name": "correlation-test"
   },
   "outputs": [],
   "source": [
    "# Calculate the correlation coefficient\n",
    "cor(strength, length)\n",
    "\n",
    "# Perform the correlation test\n",
    "cor.test(strength, length)"
   ]
  },
  {
   "cell_type": "markdown",
   "id": "2c039660",
   "metadata": {},
   "source": [
    "The results show a strong positive correlation between length and strength, and the p-value is highly significant, indicating that this relationship is not due to random chance."
   ]
  }
 ],
 "metadata": {
  "jupytext": {
   "cell_metadata_filter": "tags,fig.height,name,class.source,cache,echo,fig.show,-all",
   "main_language": "R",
   "notebook_metadata_filter": "-all"
  },
  "kernelspec": {
   "display_name": "R",
   "language": "R",
   "name": "ir"
  },
  "language_info": {
   "codemirror_mode": "r",
   "file_extension": ".r",
   "mimetype": "text/x-r-source",
   "name": "R",
   "pygments_lexer": "r",
   "version": "4.4.3"
  }
 },
 "nbformat": 4,
 "nbformat_minor": 5
}
